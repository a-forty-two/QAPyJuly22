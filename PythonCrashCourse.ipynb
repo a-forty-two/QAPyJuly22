{
  "nbformat": 4,
  "nbformat_minor": 0,
  "metadata": {
    "colab": {
      "name": "PythonCrashCourse.ipynb",
      "provenance": [],
      "authorship_tag": "ABX9TyPtOMPYC83ljwFmnQSsZcCj",
      "include_colab_link": true
    },
    "kernelspec": {
      "name": "python3",
      "display_name": "Python 3"
    },
    "language_info": {
      "name": "python"
    }
  },
  "cells": [
    {
      "cell_type": "markdown",
      "metadata": {
        "id": "view-in-github",
        "colab_type": "text"
      },
      "source": [
        "<a href=\"https://colab.research.google.com/github/a-forty-two/QAPyJuly22/blob/main/PythonCrashCourse.ipynb\" target=\"_parent\"><img src=\"https://colab.research.google.com/assets/colab-badge.svg\" alt=\"Open In Colab\"/></a>"
      ]
    },
    {
      "cell_type": "code",
      "execution_count": 1,
      "metadata": {
        "id": "Gbi_a8MkDVWj"
      },
      "outputs": [],
      "source": [
        "# ENSURE-> AUTOMATION \n",
        "# write instruction one after the other-> REPL\n",
        "# Read Edit Print Loop \n",
        "\n",
        "# Uses of automation-> \n",
        "# AI, robots, OS, FILE, uploads and downloads!\n",
        "# MOVIE, SONG, Scanning a fingerprint!"
      ]
    },
    {
      "cell_type": "code",
      "source": [
        "# Computers-> a lot of diff types of data\n",
        "# numbers, char, floating"
      ],
      "metadata": {
        "id": "F6i0MSTNFWvr"
      },
      "execution_count": 2,
      "outputs": []
    },
    {
      "cell_type": "code",
      "source": [
        "a=1\n",
        "print(\"%d\", a)"
      ],
      "metadata": {
        "colab": {
          "base_uri": "https://localhost:8080/"
        },
        "id": "FibbFtH8Ffc0",
        "outputId": "67efd4de-656f-4185-9ae7-c11d499ef89b"
      },
      "execution_count": 3,
      "outputs": [
        {
          "output_type": "stream",
          "name": "stdout",
          "text": [
            "%d 1\n"
          ]
        }
      ]
    },
    {
      "cell_type": "code",
      "source": [
        "print(\"Hello \\n World\")"
      ],
      "metadata": {
        "colab": {
          "base_uri": "https://localhost:8080/"
        },
        "id": "pkFbNJUMFlr_",
        "outputId": "aef9a61f-ec2e-4caf-d575-926853ea5875"
      },
      "execution_count": 6,
      "outputs": [
        {
          "output_type": "stream",
          "name": "stdout",
          "text": [
            "Hello \n",
            " World\n"
          ]
        }
      ]
    },
    {
      "cell_type": "code",
      "source": [
        "print(\"Hello\\tWorld\\nByeBye\")"
      ],
      "metadata": {
        "colab": {
          "base_uri": "https://localhost:8080/"
        },
        "id": "RPTuIAiSFuL9",
        "outputId": "b611f399-cbe8-4871-d015-8689e6f17f28"
      },
      "execution_count": 7,
      "outputs": [
        {
          "output_type": "stream",
          "name": "stdout",
          "text": [
            "Hello\tWorld\n",
            "ByeBye\n"
          ]
        }
      ]
    },
    {
      "cell_type": "code",
      "source": [
        "a = \"John\"\n",
        "b = \"Smith\"\n",
        "\n",
        "print(\"Hello {}\".format(b))\n",
        "\n",
        "# STRING IS ALSO FOR AUTOMATION!"
      ],
      "metadata": {
        "colab": {
          "base_uri": "https://localhost:8080/"
        },
        "id": "_WPVwc7WF-h1",
        "outputId": "c98f8c2c-989c-498d-dcb4-0a7fbf376d25"
      },
      "execution_count": 10,
      "outputs": [
        {
          "output_type": "stream",
          "name": "stdout",
          "text": [
            "Hello Smith\n"
          ]
        }
      ]
    },
    {
      "cell_type": "code",
      "source": [
        "print(\"Hello {},{}\".format(b, a))"
      ],
      "metadata": {
        "colab": {
          "base_uri": "https://localhost:8080/"
        },
        "id": "br8Z1D7qGgXy",
        "outputId": "849f3849-9dd4-4ed2-cb1b-6c5ba7ce1218"
      },
      "execution_count": 11,
      "outputs": [
        {
          "output_type": "stream",
          "name": "stdout",
          "text": [
            "Hello Smith,John\n"
          ]
        }
      ]
    },
    {
      "cell_type": "code",
      "source": [
        "print(\"Hello {},{}\\nHow are you?\".format(b, a))"
      ],
      "metadata": {
        "colab": {
          "base_uri": "https://localhost:8080/"
        },
        "id": "cMEz_uisGwNo",
        "outputId": "4d883eb8-307e-46d0-9e5d-876f0194641d"
      },
      "execution_count": 12,
      "outputs": [
        {
          "output_type": "stream",
          "name": "stdout",
          "text": [
            "Hello Smith,John\n",
            "How are you?\n"
          ]
        }
      ]
    },
    {
      "cell_type": "code",
      "source": [
        "# special characters-> \\n \\t -> hold a special meaning \n",
        "# {} -> to replace and format your string "
      ],
      "metadata": {
        "id": "ssFpy3IIG2ZJ"
      },
      "execution_count": 13,
      "outputs": []
    },
    {
      "cell_type": "code",
      "source": [
        "print(\"Hello {lname},{fname}\\nHow are you?\".format(fname=a, lname=b))"
      ],
      "metadata": {
        "colab": {
          "base_uri": "https://localhost:8080/"
        },
        "id": "3U5zZAtIHBQV",
        "outputId": "80c6ab2e-d145-4d38-fb41-78291873af71"
      },
      "execution_count": 14,
      "outputs": [
        {
          "output_type": "stream",
          "name": "stdout",
          "text": [
            "Hello Smith,John\n",
            "How are you?\n"
          ]
        }
      ]
    },
    {
      "cell_type": "code",
      "source": [
        "2+3"
      ],
      "metadata": {
        "colab": {
          "base_uri": "https://localhost:8080/"
        },
        "id": "NvmRA4ihHuAr",
        "outputId": "66d62a14-5059-4f34-bd98-c8b36da801a1"
      },
      "execution_count": 15,
      "outputs": [
        {
          "output_type": "execute_result",
          "data": {
            "text/plain": [
              "5"
            ]
          },
          "metadata": {},
          "execution_count": 15
        }
      ]
    },
    {
      "cell_type": "code",
      "source": [
        "'hello world'"
      ],
      "metadata": {
        "colab": {
          "base_uri": "https://localhost:8080/",
          "height": 35
        },
        "id": "DeWUksdnIJfz",
        "outputId": "dafcc48f-cf7d-4d75-d637-4783cf42af1b"
      },
      "execution_count": 16,
      "outputs": [
        {
          "output_type": "execute_result",
          "data": {
            "text/plain": [
              "'hello world'"
            ],
            "application/vnd.google.colaboratory.intrinsic+json": {
              "type": "string"
            }
          },
          "metadata": {},
          "execution_count": 16
        }
      ]
    },
    {
      "cell_type": "code",
      "source": [
        "a=1\n",
        "b=2\n",
        "print(f'one plus one is {a+b}')\n",
        "# f in the beginning of the string-> also results in formatting "
      ],
      "metadata": {
        "colab": {
          "base_uri": "https://localhost:8080/"
        },
        "id": "q_Xse8jqILXU",
        "outputId": "3873b8ca-a65b-45f8-8c05-68f15b48841c"
      },
      "execution_count": 20,
      "outputs": [
        {
          "output_type": "stream",
          "name": "stdout",
          "text": [
            "one plus one is 3\n"
          ]
        }
      ]
    },
    {
      "cell_type": "code",
      "source": [
        "# MULTIPLE VALUES\n",
        "# messages to 3 people \n",
        "# multiple values-> LIST - is represented by [ ]\n",
        "names = [ \"John Smith\", \"Jane Smith\", \"Pikachu\" ]\n",
        "# in programming-> counting starts from 0 and not 1\n",
        "print(names[0])"
      ],
      "metadata": {
        "colab": {
          "base_uri": "https://localhost:8080/"
        },
        "id": "Z9DU42U2IRVh",
        "outputId": "0446edf8-60b2-4e07-ed37-9af062d82494"
      },
      "execution_count": 22,
      "outputs": [
        {
          "output_type": "stream",
          "name": "stdout",
          "text": [
            "John Smith\n"
          ]
        }
      ]
    },
    {
      "cell_type": "code",
      "source": [
        "print(names[1])"
      ],
      "metadata": {
        "colab": {
          "base_uri": "https://localhost:8080/"
        },
        "id": "JDXs1o8NNshk",
        "outputId": "e4cf5eea-a81c-4d22-c02e-6e121dc20ab5"
      },
      "execution_count": 23,
      "outputs": [
        {
          "output_type": "stream",
          "name": "stdout",
          "text": [
            "Jane Smith\n"
          ]
        }
      ]
    },
    {
      "cell_type": "code",
      "source": [
        "print(names[2])"
      ],
      "metadata": {
        "colab": {
          "base_uri": "https://localhost:8080/"
        },
        "id": "zyiuFOCIN2qq",
        "outputId": "f8132771-6284-4622-8730-27df61538d1f"
      },
      "execution_count": 24,
      "outputs": [
        {
          "output_type": "stream",
          "name": "stdout",
          "text": [
            "Pikachu\n"
          ]
        }
      ]
    },
    {
      "cell_type": "code",
      "source": [
        "# Example-> names[3] should NOT work because there are NO such elements!\n",
        "print(names[3])\n",
        "# ERORR EXPECTED\n",
        "\n",
        "# WHENEVER your error - list index out of range\n",
        "# INDEX is this 0,1,2 position that we just checked out\n",
        "# this error means you are trying to refer to a POSITION at which NO ELEMENT exists!"
      ],
      "metadata": {
        "colab": {
          "base_uri": "https://localhost:8080/",
          "height": 239
        },
        "id": "5klhn5oFN5AC",
        "outputId": "5f85dac8-9dda-473d-b842-ad8543a3232e"
      },
      "execution_count": 26,
      "outputs": [
        {
          "output_type": "error",
          "ename": "IndexError",
          "evalue": "ignored",
          "traceback": [
            "\u001b[0;31m---------------------------------------------------------------------------\u001b[0m",
            "\u001b[0;31mIndexError\u001b[0m                                Traceback (most recent call last)",
            "\u001b[0;32m<ipython-input-26-bfe5a7793775>\u001b[0m in \u001b[0;36m<module>\u001b[0;34m()\u001b[0m\n\u001b[1;32m      1\u001b[0m \u001b[0;31m# Example-> names[3] should NOT work because there are NO such elements!\u001b[0m\u001b[0;34m\u001b[0m\u001b[0;34m\u001b[0m\u001b[0;34m\u001b[0m\u001b[0m\n\u001b[0;32m----> 2\u001b[0;31m \u001b[0mprint\u001b[0m\u001b[0;34m(\u001b[0m\u001b[0mnames\u001b[0m\u001b[0;34m[\u001b[0m\u001b[0;36m3\u001b[0m\u001b[0;34m]\u001b[0m\u001b[0;34m)\u001b[0m\u001b[0;34m\u001b[0m\u001b[0;34m\u001b[0m\u001b[0m\n\u001b[0m\u001b[1;32m      3\u001b[0m \u001b[0;31m# ERORR EXPECTED\u001b[0m\u001b[0;34m\u001b[0m\u001b[0;34m\u001b[0m\u001b[0;34m\u001b[0m\u001b[0m\n\u001b[1;32m      4\u001b[0m \u001b[0;34m\u001b[0m\u001b[0m\n\u001b[1;32m      5\u001b[0m \u001b[0;31m# WHENEVER your error - list index out of range\u001b[0m\u001b[0;34m\u001b[0m\u001b[0;34m\u001b[0m\u001b[0;34m\u001b[0m\u001b[0m\n",
            "\u001b[0;31mIndexError\u001b[0m: list index out of range"
          ]
        }
      ]
    },
    {
      "cell_type": "code",
      "source": [
        "# POSITIVE (and 0) numbers are counted from left to right\n",
        "# NEGATIVE numbers-> counted from right to left\n",
        "print(names[-1])"
      ],
      "metadata": {
        "colab": {
          "base_uri": "https://localhost:8080/"
        },
        "id": "WZ4jHFjOOBlX",
        "outputId": "555077e6-c65c-4d2e-d6b5-7edc79203548"
      },
      "execution_count": 27,
      "outputs": [
        {
          "output_type": "stream",
          "name": "stdout",
          "text": [
            "Pikachu\n"
          ]
        }
      ]
    },
    {
      "cell_type": "code",
      "source": [
        "print(names[-3])"
      ],
      "metadata": {
        "colab": {
          "base_uri": "https://localhost:8080/"
        },
        "id": "Ji9ObWpyO9AG",
        "outputId": "2ef3fc92-7842-4dfc-ecb2-1ed5d8e13197"
      },
      "execution_count": 28,
      "outputs": [
        {
          "output_type": "stream",
          "name": "stdout",
          "text": [
            "John Smith\n"
          ]
        }
      ]
    },
    {
      "cell_type": "code",
      "source": [
        "print(names[-4])"
      ],
      "metadata": {
        "colab": {
          "base_uri": "https://localhost:8080/",
          "height": 168
        },
        "id": "sO2e-4-VPDSP",
        "outputId": "ef067b6a-62d3-4530-af8d-7ead4002b8bc"
      },
      "execution_count": 29,
      "outputs": [
        {
          "output_type": "error",
          "ename": "IndexError",
          "evalue": "ignored",
          "traceback": [
            "\u001b[0;31m---------------------------------------------------------------------------\u001b[0m",
            "\u001b[0;31mIndexError\u001b[0m                                Traceback (most recent call last)",
            "\u001b[0;32m<ipython-input-29-2e182a90b17e>\u001b[0m in \u001b[0;36m<module>\u001b[0;34m()\u001b[0m\n\u001b[0;32m----> 1\u001b[0;31m \u001b[0mprint\u001b[0m\u001b[0;34m(\u001b[0m\u001b[0mnames\u001b[0m\u001b[0;34m[\u001b[0m\u001b[0;34m-\u001b[0m\u001b[0;36m4\u001b[0m\u001b[0;34m]\u001b[0m\u001b[0;34m)\u001b[0m\u001b[0;34m\u001b[0m\u001b[0;34m\u001b[0m\u001b[0m\n\u001b[0m",
            "\u001b[0;31mIndexError\u001b[0m: list index out of range"
          ]
        }
      ]
    },
    {
      "cell_type": "code",
      "source": [
        "# CONDITION -> if (CONDITION )-> what to do, else -> what to do\n",
        "a = 1\n",
        "b = 2\n",
        "if(a<b):\n",
        "  print(\"hello world\")\n",
        "else:\n",
        "  print(\"bye bye world\")\n",
        "# PYTHON has a BIG PROBLEM with spaces!\n",
        "# recommend-> use TAB instead of spaces\n",
        "# if the space is inconsistent then also we get errors!"
      ],
      "metadata": {
        "colab": {
          "base_uri": "https://localhost:8080/"
        },
        "id": "gnFnGqc8PIFU",
        "outputId": "252d27af-60be-4143-c071-604a0bf3bde3"
      },
      "execution_count": 30,
      "outputs": [
        {
          "output_type": "stream",
          "name": "stdout",
          "text": [
            "hello world\n"
          ]
        }
      ]
    },
    {
      "cell_type": "code",
      "source": [
        "# error demo\n",
        "a = 1\n",
        "b = 2\n",
        "if(a<b):\n",
        "print(\"hello world\")\n",
        "else:\n",
        "print(\"bye bye world\")\n",
        "# indentation -> SPACE to LEAVE from left side!\n",
        "# whenever we get INDENTATION ERROR-> look for code blocks like IF and ELSE statements!"
      ],
      "metadata": {
        "colab": {
          "base_uri": "https://localhost:8080/",
          "height": 133
        },
        "id": "ERd95AXUPot6",
        "outputId": "3b870084-a7ee-43f3-bced-93abaf7762c7"
      },
      "execution_count": 31,
      "outputs": [
        {
          "output_type": "error",
          "ename": "IndentationError",
          "evalue": "ignored",
          "traceback": [
            "\u001b[0;36m  File \u001b[0;32m\"<ipython-input-31-badc4f924eef>\"\u001b[0;36m, line \u001b[0;32m5\u001b[0m\n\u001b[0;31m    print(\"hello world\")\u001b[0m\n\u001b[0m        ^\u001b[0m\n\u001b[0;31mIndentationError\u001b[0m\u001b[0;31m:\u001b[0m expected an indented block\n"
          ]
        }
      ]
    },
    {
      "cell_type": "code",
      "source": [
        ""
      ],
      "metadata": {
        "id": "jPe8Nb-mP6Gj"
      },
      "execution_count": null,
      "outputs": []
    }
  ]
}