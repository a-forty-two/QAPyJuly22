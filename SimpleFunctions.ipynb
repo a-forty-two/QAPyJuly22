{
  "nbformat": 4,
  "nbformat_minor": 0,
  "metadata": {
    "colab": {
      "name": "SimpleFunctions.ipynb",
      "provenance": [],
      "authorship_tag": "ABX9TyNuqKGJQ94lgRreFoRJPkk6",
      "include_colab_link": true
    },
    "kernelspec": {
      "name": "python3",
      "display_name": "Python 3"
    },
    "language_info": {
      "name": "python"
    }
  },
  "cells": [
    {
      "cell_type": "markdown",
      "metadata": {
        "id": "view-in-github",
        "colab_type": "text"
      },
      "source": [
        "<a href=\"https://colab.research.google.com/github/a-forty-two/QAPyJuly22/blob/main/SimpleFunctions.ipynb\" target=\"_parent\"><img src=\"https://colab.research.google.com/assets/colab-badge.svg\" alt=\"Open In Colab\"/></a>"
      ]
    },
    {
      "cell_type": "code",
      "execution_count": 1,
      "metadata": {
        "id": "XGe0pQahjR25"
      },
      "outputs": [],
      "source": [
        "# syntax-> def name ( arguments ):\n",
        "#                 rest of the function\n"
      ]
    },
    {
      "cell_type": "code",
      "source": [
        "def sum(a,b):\n",
        "  return a+b"
      ],
      "metadata": {
        "id": "rnYQ_c7jjhRP"
      },
      "execution_count": 2,
      "outputs": []
    },
    {
      "cell_type": "code",
      "source": [
        "sum(1,2)"
      ],
      "metadata": {
        "colab": {
          "base_uri": "https://localhost:8080/"
        },
        "id": "oJRlmi7YjkoT",
        "outputId": "93033b39-dab1-4ff1-edde-edcb558ba966"
      },
      "execution_count": 3,
      "outputs": [
        {
          "output_type": "execute_result",
          "data": {
            "text/plain": [
              "3"
            ]
          },
          "metadata": {},
          "execution_count": 3
        }
      ]
    },
    {
      "cell_type": "code",
      "source": [
        "sum(2,4)"
      ],
      "metadata": {
        "colab": {
          "base_uri": "https://localhost:8080/"
        },
        "id": "xszX6Sn5jl9B",
        "outputId": "5bcc1ad8-e127-415d-eeea-61485ddbec4e"
      },
      "execution_count": 4,
      "outputs": [
        {
          "output_type": "execute_result",
          "data": {
            "text/plain": [
              "6"
            ]
          },
          "metadata": {},
          "execution_count": 4
        }
      ]
    },
    {
      "cell_type": "code",
      "source": [
        "# we can calculate only positive numbers!"
      ],
      "metadata": {
        "id": "_TUWTdj-jnMi"
      },
      "execution_count": 5,
      "outputs": []
    },
    {
      "cell_type": "code",
      "source": [
        "def newsum(a,b):\n",
        "  if a < 0:\n",
        "    print('A is less than 0, sum is not calculated')\n",
        "  if b < 0:\n",
        "    print('B is less than 0, sum is not calculated')\n",
        "  if (a > 0) and (b>0):\n",
        "    print(a+b)"
      ],
      "metadata": {
        "id": "7X5reXsejq8Q"
      },
      "execution_count": 6,
      "outputs": []
    },
    {
      "cell_type": "code",
      "source": [
        "newsum(-1,-1)"
      ],
      "metadata": {
        "colab": {
          "base_uri": "https://localhost:8080/"
        },
        "id": "IG9x59oJj6Vj",
        "outputId": "d40e3f3d-6398-44a6-ca72-3298601e94b3"
      },
      "execution_count": 7,
      "outputs": [
        {
          "output_type": "stream",
          "name": "stdout",
          "text": [
            "A is less than 0, sum is not calculated\n",
            "B is less than 0, sum is not calculated\n"
          ]
        }
      ]
    },
    {
      "cell_type": "code",
      "source": [
        "newsum(100,5)"
      ],
      "metadata": {
        "colab": {
          "base_uri": "https://localhost:8080/"
        },
        "id": "KNBDOGd8j7_s",
        "outputId": "9596a656-c748-411f-ff2c-eadee344395b"
      },
      "execution_count": 8,
      "outputs": [
        {
          "output_type": "stream",
          "name": "stdout",
          "text": [
            "105\n"
          ]
        }
      ]
    },
    {
      "cell_type": "code",
      "source": [
        "# Create a function for division!\n",
        "# hint: are all numbers divisible by all numbers?\n"
      ],
      "metadata": {
        "id": "pKXftpagj-aF"
      },
      "execution_count": null,
      "outputs": []
    }
  ]
}