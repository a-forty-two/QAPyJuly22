{
  "nbformat": 4,
  "nbformat_minor": 0,
  "metadata": {
    "colab": {
      "name": "AdvancedFunctions.ipynb",
      "provenance": [],
      "collapsed_sections": [],
      "authorship_tag": "ABX9TyPZj13XBEl7fW3vuVLAqi0Z",
      "include_colab_link": true
    },
    "kernelspec": {
      "name": "python3",
      "display_name": "Python 3"
    },
    "language_info": {
      "name": "python"
    }
  },
  "cells": [
    {
      "cell_type": "markdown",
      "metadata": {
        "id": "view-in-github",
        "colab_type": "text"
      },
      "source": [
        "<a href=\"https://colab.research.google.com/github/a-forty-two/QAPyJuly22/blob/main/AdvancedFunctions.ipynb\" target=\"_parent\"><img src=\"https://colab.research.google.com/assets/colab-badge.svg\" alt=\"Open In Colab\"/></a>"
      ]
    },
    {
      "cell_type": "code",
      "execution_count": 1,
      "metadata": {
        "id": "XGe0pQahjR25"
      },
      "outputs": [],
      "source": [
        "# syntax-> def name ( arguments ):\n",
        "#                 rest of the function\n"
      ]
    },
    {
      "cell_type": "code",
      "source": [
        "def sum(a,b):\n",
        "  return a+b"
      ],
      "metadata": {
        "id": "rnYQ_c7jjhRP"
      },
      "execution_count": 2,
      "outputs": []
    },
    {
      "cell_type": "code",
      "source": [
        "sum(1,2)"
      ],
      "metadata": {
        "colab": {
          "base_uri": "https://localhost:8080/"
        },
        "id": "oJRlmi7YjkoT",
        "outputId": "93033b39-dab1-4ff1-edde-edcb558ba966"
      },
      "execution_count": 3,
      "outputs": [
        {
          "output_type": "execute_result",
          "data": {
            "text/plain": [
              "3"
            ]
          },
          "metadata": {},
          "execution_count": 3
        }
      ]
    },
    {
      "cell_type": "code",
      "source": [
        "sum(2,4)"
      ],
      "metadata": {
        "colab": {
          "base_uri": "https://localhost:8080/"
        },
        "id": "xszX6Sn5jl9B",
        "outputId": "5bcc1ad8-e127-415d-eeea-61485ddbec4e"
      },
      "execution_count": 4,
      "outputs": [
        {
          "output_type": "execute_result",
          "data": {
            "text/plain": [
              "6"
            ]
          },
          "metadata": {},
          "execution_count": 4
        }
      ]
    },
    {
      "cell_type": "code",
      "source": [
        "# we can calculate only positive numbers!"
      ],
      "metadata": {
        "id": "_TUWTdj-jnMi"
      },
      "execution_count": 5,
      "outputs": []
    },
    {
      "cell_type": "code",
      "source": [
        "def newsum(a,b):\n",
        "  if a < 0:\n",
        "    print('A is less than 0, sum is not calculated')\n",
        "  if b < 0:\n",
        "    print('B is less than 0, sum is not calculated')\n",
        "  if (a > 0) and (b>0):\n",
        "    print(a+b)"
      ],
      "metadata": {
        "id": "7X5reXsejq8Q"
      },
      "execution_count": 6,
      "outputs": []
    },
    {
      "cell_type": "code",
      "source": [
        "newsum(-1,-1)"
      ],
      "metadata": {
        "colab": {
          "base_uri": "https://localhost:8080/"
        },
        "id": "IG9x59oJj6Vj",
        "outputId": "d40e3f3d-6398-44a6-ca72-3298601e94b3"
      },
      "execution_count": 7,
      "outputs": [
        {
          "output_type": "stream",
          "name": "stdout",
          "text": [
            "A is less than 0, sum is not calculated\n",
            "B is less than 0, sum is not calculated\n"
          ]
        }
      ]
    },
    {
      "cell_type": "code",
      "source": [
        "newsum(100,5)"
      ],
      "metadata": {
        "colab": {
          "base_uri": "https://localhost:8080/"
        },
        "id": "KNBDOGd8j7_s",
        "outputId": "9596a656-c748-411f-ff2c-eadee344395b"
      },
      "execution_count": 8,
      "outputs": [
        {
          "output_type": "stream",
          "name": "stdout",
          "text": [
            "105\n"
          ]
        }
      ]
    },
    {
      "cell_type": "code",
      "source": [
        "# Create a function for division!\n",
        "# hint: are all numbers divisible by all numbers?\n"
      ],
      "metadata": {
        "id": "pKXftpagj-aF"
      },
      "execution_count": null,
      "outputs": []
    },
    {
      "cell_type": "code",
      "source": [
        "# we have been running the whole function-> \n",
        "# but what if we wanted to stop as soon as we knew that division was not possible?\n"
      ],
      "metadata": {
        "id": "rpS5BDd2lgQf"
      },
      "execution_count": 9,
      "outputs": []
    },
    {
      "cell_type": "code",
      "source": [
        "# i want to print all numbers, but not exceeding 50\n",
        "def print_till(n):\n",
        "  for i in range(n):\n",
        "    if i == 50:\n",
        "      break\n",
        "    if(i%2 == 0): # if the remainder of the division is 0\n",
        "      print('Even number detected~' + str(i))\n",
        "    else:\n",
        "      print('Odd number detected~' + str(i))\n",
        "    "
      ],
      "metadata": {
        "id": "Cqn0atFklmhV"
      },
      "execution_count": 11,
      "outputs": []
    },
    {
      "cell_type": "code",
      "source": [
        "print_till(42)"
      ],
      "metadata": {
        "colab": {
          "base_uri": "https://localhost:8080/"
        },
        "id": "GZJatvNYlx20",
        "outputId": "089c496e-4f0f-4e4e-b5f7-73971f847c7e"
      },
      "execution_count": 12,
      "outputs": [
        {
          "output_type": "stream",
          "name": "stdout",
          "text": [
            "Even number detected~0\n",
            "Odd number detected~1\n",
            "Even number detected~2\n",
            "Odd number detected~3\n",
            "Even number detected~4\n",
            "Odd number detected~5\n",
            "Even number detected~6\n",
            "Odd number detected~7\n",
            "Even number detected~8\n",
            "Odd number detected~9\n",
            "Even number detected~10\n",
            "Odd number detected~11\n",
            "Even number detected~12\n",
            "Odd number detected~13\n",
            "Even number detected~14\n",
            "Odd number detected~15\n",
            "Even number detected~16\n",
            "Odd number detected~17\n",
            "Even number detected~18\n",
            "Odd number detected~19\n",
            "Even number detected~20\n",
            "Odd number detected~21\n",
            "Even number detected~22\n",
            "Odd number detected~23\n",
            "Even number detected~24\n",
            "Odd number detected~25\n",
            "Even number detected~26\n",
            "Odd number detected~27\n",
            "Even number detected~28\n",
            "Odd number detected~29\n",
            "Even number detected~30\n",
            "Odd number detected~31\n",
            "Even number detected~32\n",
            "Odd number detected~33\n",
            "Even number detected~34\n",
            "Odd number detected~35\n",
            "Even number detected~36\n",
            "Odd number detected~37\n",
            "Even number detected~38\n",
            "Odd number detected~39\n",
            "Even number detected~40\n",
            "Odd number detected~41\n"
          ]
        }
      ]
    },
    {
      "cell_type": "code",
      "source": [
        "print_till(100)"
      ],
      "metadata": {
        "colab": {
          "base_uri": "https://localhost:8080/"
        },
        "id": "oJL615DBmZI6",
        "outputId": "9cdf9fe8-f60a-4556-c83d-c4285c1b2664"
      },
      "execution_count": 13,
      "outputs": [
        {
          "output_type": "stream",
          "name": "stdout",
          "text": [
            "Even number detected~0\n",
            "Odd number detected~1\n",
            "Even number detected~2\n",
            "Odd number detected~3\n",
            "Even number detected~4\n",
            "Odd number detected~5\n",
            "Even number detected~6\n",
            "Odd number detected~7\n",
            "Even number detected~8\n",
            "Odd number detected~9\n",
            "Even number detected~10\n",
            "Odd number detected~11\n",
            "Even number detected~12\n",
            "Odd number detected~13\n",
            "Even number detected~14\n",
            "Odd number detected~15\n",
            "Even number detected~16\n",
            "Odd number detected~17\n",
            "Even number detected~18\n",
            "Odd number detected~19\n",
            "Even number detected~20\n",
            "Odd number detected~21\n",
            "Even number detected~22\n",
            "Odd number detected~23\n",
            "Even number detected~24\n",
            "Odd number detected~25\n",
            "Even number detected~26\n",
            "Odd number detected~27\n",
            "Even number detected~28\n",
            "Odd number detected~29\n",
            "Even number detected~30\n",
            "Odd number detected~31\n",
            "Even number detected~32\n",
            "Odd number detected~33\n",
            "Even number detected~34\n",
            "Odd number detected~35\n",
            "Even number detected~36\n",
            "Odd number detected~37\n",
            "Even number detected~38\n",
            "Odd number detected~39\n",
            "Even number detected~40\n",
            "Odd number detected~41\n",
            "Even number detected~42\n",
            "Odd number detected~43\n",
            "Even number detected~44\n",
            "Odd number detected~45\n",
            "Even number detected~46\n",
            "Odd number detected~47\n",
            "Even number detected~48\n",
            "Odd number detected~49\n"
          ]
        }
      ]
    },
    {
      "cell_type": "code",
      "source": [
        "# DEFINE variables SEPARATELY OUTSIDE THE FUNCTION and INSIDE the function\n",
        "a = 1\n",
        "print(a)\n",
        "def random_func():\n",
        "  a= \"hello\" # ALL VARIABLES INSIDE A FUNCTION ARE LOCAL ONLY TO THAT FUNCTION!\n",
        "  print(a) # the 'a' defined inside random_func has NOTHING to do with a defined outside the function!\n",
        "random_func()\n",
        "print(a)"
      ],
      "metadata": {
        "colab": {
          "base_uri": "https://localhost:8080/"
        },
        "id": "F80YOwh9mfCD",
        "outputId": "46a374fc-3a58-4d32-d633-e045b043f2b3"
      },
      "execution_count": 15,
      "outputs": [
        {
          "output_type": "stream",
          "name": "stdout",
          "text": [
            "1\n",
            "hello\n",
            "1\n"
          ]
        }
      ]
    },
    {
      "cell_type": "code",
      "source": [
        "# MULTIPLE values can be returned!\n",
        "def myspecialdivision(a,b):\n",
        "  quotient = int(a/b)\n",
        "  remainder = a % b \n",
        "  return quotient, remainder"
      ],
      "metadata": {
        "id": "93snIDPumt6C"
      },
      "execution_count": 16,
      "outputs": []
    },
    {
      "cell_type": "code",
      "source": [
        "# while calling the function, use EQUAL number of parameters!\n",
        "q, r = myspecialdivision(10, 3)\n",
        "print(q,r)"
      ],
      "metadata": {
        "colab": {
          "base_uri": "https://localhost:8080/"
        },
        "id": "84oBY1k_nIDh",
        "outputId": "d5875b43-5937-4cc6-d45f-e9dc0c553ef5"
      },
      "execution_count": 17,
      "outputs": [
        {
          "output_type": "stream",
          "name": "stdout",
          "text": [
            "3 1\n"
          ]
        }
      ]
    },
    {
      "cell_type": "code",
      "source": [
        "# data structures- such as a tuple!-> if you wanted the result of a function to stay READONLY!\n",
        "def myspecialdivision(a,b):\n",
        "  quotient = int(a/b)\n",
        "  remainder = a % b \n",
        "  return (quotient, remainder)"
      ],
      "metadata": {
        "id": "VvjH6cIQnQXe"
      },
      "execution_count": 38,
      "outputs": []
    },
    {
      "cell_type": "code",
      "source": [
        "res = myspecialdivision(5,1)\n",
        "res"
      ],
      "metadata": {
        "colab": {
          "base_uri": "https://localhost:8080/"
        },
        "id": "SAwqL9AAor3F",
        "outputId": "5bc1b68e-9e8b-4735-83f9-8cc306dc0ee8"
      },
      "execution_count": 39,
      "outputs": [
        {
          "output_type": "execute_result",
          "data": {
            "text/plain": [
              "(5, 0)"
            ]
          },
          "metadata": {},
          "execution_count": 39
        }
      ]
    },
    {
      "cell_type": "code",
      "source": [
        "result = (q, r) = myspecialdivision(10, 3)\n",
        "print(result)\n",
        "print(q)\n",
        "print(r)\n",
        "# result-> ORIGINAL COPY\n",
        "# q, r -> become copies to edit/transform/play_around!"
      ],
      "metadata": {
        "colab": {
          "base_uri": "https://localhost:8080/"
        },
        "id": "_vr9twbknbpD",
        "outputId": "79bb5213-cf42-44fe-8cf4-9fc6d167dcea"
      },
      "execution_count": 23,
      "outputs": [
        {
          "output_type": "stream",
          "name": "stdout",
          "text": [
            "(3, 1)\n",
            "3\n",
            "1\n"
          ]
        }
      ]
    },
    {
      "cell_type": "code",
      "source": [
        "# ERROR: i am returning 2 values, but what if we 3 variables?\n",
        "q1,q2,q3 = myspecialdivision(10,3)\n",
        "# UNPACKING ERROR!"
      ],
      "metadata": {
        "colab": {
          "base_uri": "https://localhost:8080/",
          "height": 204
        },
        "id": "jpBfh_nKndSq",
        "outputId": "b9c2ee05-b089-48f8-e13b-868cff1aa279"
      },
      "execution_count": 27,
      "outputs": [
        {
          "output_type": "error",
          "ename": "ValueError",
          "evalue": "ignored",
          "traceback": [
            "\u001b[0;31m---------------------------------------------------------------------------\u001b[0m",
            "\u001b[0;31mValueError\u001b[0m                                Traceback (most recent call last)",
            "\u001b[0;32m<ipython-input-27-384dcc68eef5>\u001b[0m in \u001b[0;36m<module>\u001b[0;34m()\u001b[0m\n\u001b[1;32m      1\u001b[0m \u001b[0;31m# ERROR: i am returning 2 values, but what if we 3 variables?\u001b[0m\u001b[0;34m\u001b[0m\u001b[0;34m\u001b[0m\u001b[0;34m\u001b[0m\u001b[0m\n\u001b[0;32m----> 2\u001b[0;31m \u001b[0mq1\u001b[0m\u001b[0;34m,\u001b[0m\u001b[0mq2\u001b[0m\u001b[0;34m,\u001b[0m\u001b[0mq3\u001b[0m \u001b[0;34m=\u001b[0m \u001b[0mmyspecialdivision\u001b[0m\u001b[0;34m(\u001b[0m\u001b[0;36m10\u001b[0m\u001b[0;34m,\u001b[0m\u001b[0;36m3\u001b[0m\u001b[0;34m)\u001b[0m\u001b[0;34m\u001b[0m\u001b[0;34m\u001b[0m\u001b[0m\n\u001b[0m\u001b[1;32m      3\u001b[0m \u001b[0;31m# UNPACKING ERROR!\u001b[0m\u001b[0;34m\u001b[0m\u001b[0;34m\u001b[0m\u001b[0;34m\u001b[0m\u001b[0m\n",
            "\u001b[0;31mValueError\u001b[0m: not enough values to unpack (expected 3, got 2)"
          ]
        }
      ]
    },
    {
      "cell_type": "code",
      "source": [
        "# check for prime numbers!\n",
        "def isPrime(n):\n",
        "  if n <= 1:\n",
        "    return \"No Primes Detected!\"\n",
        "  # a number div only by itself\n",
        "  for i in range(2,int(n/2)): # N/2 -> because no number has a factor greater than its half!\n",
        "    if n % i == 0:\n",
        "      return (\"Factor found = \" + str(i))\n",
        "  # we will ONLY reach this point if NO factor was found and loop ended successfully!\n",
        "  return (str(n) + \" is a prime number\")"
      ],
      "metadata": {
        "id": "UNKBhWwgoHhI"
      },
      "execution_count": 44,
      "outputs": []
    },
    {
      "cell_type": "code",
      "source": [
        "isPrime(20)"
      ],
      "metadata": {
        "colab": {
          "base_uri": "https://localhost:8080/",
          "height": 35
        },
        "id": "We_eG4ACoWyJ",
        "outputId": "bb563587-da65-496b-b1b0-166d8c38ce77"
      },
      "execution_count": 45,
      "outputs": [
        {
          "output_type": "execute_result",
          "data": {
            "text/plain": [
              "'Factor found = 2'"
            ],
            "application/vnd.google.colaboratory.intrinsic+json": {
              "type": "string"
            }
          },
          "metadata": {},
          "execution_count": 45
        }
      ]
    },
    {
      "cell_type": "code",
      "source": [
        "isPrime(21)"
      ],
      "metadata": {
        "colab": {
          "base_uri": "https://localhost:8080/",
          "height": 35
        },
        "id": "LwhVxdi7rU1P",
        "outputId": "0aa5e50f-25f7-4180-a340-952e06805c5d"
      },
      "execution_count": 46,
      "outputs": [
        {
          "output_type": "execute_result",
          "data": {
            "text/plain": [
              "'Factor found = 3'"
            ],
            "application/vnd.google.colaboratory.intrinsic+json": {
              "type": "string"
            }
          },
          "metadata": {},
          "execution_count": 46
        }
      ]
    },
    {
      "cell_type": "code",
      "source": [
        "isPrime(7)"
      ],
      "metadata": {
        "colab": {
          "base_uri": "https://localhost:8080/",
          "height": 35
        },
        "id": "ZpYJ18S5riEe",
        "outputId": "03c360a4-18af-47ef-e77e-6655a574888a"
      },
      "execution_count": 48,
      "outputs": [
        {
          "output_type": "execute_result",
          "data": {
            "text/plain": [
              "'7 is a prime number'"
            ],
            "application/vnd.google.colaboratory.intrinsic+json": {
              "type": "string"
            }
          },
          "metadata": {},
          "execution_count": 48
        }
      ]
    },
    {
      "cell_type": "code",
      "source": [
        "# -1 means invalid input (numbers <= 1)\n",
        "# 0 means the number is prime\n",
        "# anything else means that a factor was found!\n",
        "# 4 -> 2 would be the response\n",
        "# 17-> 0 would be the response!\n",
        "def isPrime(n):\n",
        "  if n <= 1:\n",
        "    return -1\n",
        "  # a number div only by itself\n",
        "  for i in range(2,int(n/2)): # N/2 -> because no number has a factor greater than its half!\n",
        "    if n % i == 0:\n",
        "      return i\n",
        "  # we will ONLY reach this point if NO factor was found and loop ended successfully!\n",
        "  return 0"
      ],
      "metadata": {
        "id": "Ox0GADgB99CS"
      },
      "execution_count": 49,
      "outputs": []
    },
    {
      "cell_type": "code",
      "source": [
        "# Functions can be invoked inside other functions\n",
        "# Problem Statement: Print all prime numbers between two M and N\n",
        "\n",
        "def printPrimesBetweenLimits(m,n):\n",
        "  for i in range(m,n):\n",
        "    result = isPrime(i)\n",
        "    if(result == 0):\n",
        "      print(str(i) + \" is a prime number!\")\n",
        "\n",
        "  "
      ],
      "metadata": {
        "id": "u39QzSvRrjt4"
      },
      "execution_count": 50,
      "outputs": []
    },
    {
      "cell_type": "code",
      "source": [
        "printPrimesBetweenLimits(5, 25)"
      ],
      "metadata": {
        "colab": {
          "base_uri": "https://localhost:8080/"
        },
        "id": "UVNjxWtq-7Jo",
        "outputId": "38517e43-4d4c-4ac0-e016-20873ff5d187"
      },
      "execution_count": 51,
      "outputs": [
        {
          "output_type": "stream",
          "name": "stdout",
          "text": [
            "5 is a prime number!\n",
            "7 is a prime number!\n",
            "11 is a prime number!\n",
            "13 is a prime number!\n",
            "17 is a prime number!\n",
            "19 is a prime number!\n",
            "23 is a prime number!\n"
          ]
        }
      ]
    },
    {
      "cell_type": "code",
      "source": [
        "# Why would we write a function even though when Python allows us to write code outside?\n",
        "# REASON-> code reusability!\n",
        "# if we had an operation to repeat-> we don't need to write the code again!\n",
        "# it allows for easier bug fixing!\n",
        "# instead of looking everywhere -> we now can isolate function and fix it instead!"
      ],
      "metadata": {
        "id": "ShdDSqYf-_w5"
      },
      "execution_count": 52,
      "outputs": []
    },
    {
      "cell_type": "code",
      "source": [
        "# search for an element-> list has inbuilt functions to search \n",
        "\n",
        "# FIND THE BUG IN FUNCTION BELOW:\n",
        "def list_search(mylist, element):\n",
        "  for item in mylist:\n",
        "    print(item)\n",
        "    if(item == element):\n",
        "      return 1\n",
        "    else:\n",
        "      return 0\n",
        "\n",
        "dummy_list = ['apple', 2, False, 33, 4.13]\n",
        "item_to_search = False\n",
        "list_search(dummy_list, item_to_search)"
      ],
      "metadata": {
        "colab": {
          "base_uri": "https://localhost:8080/"
        },
        "id": "8JB9NaXn_YBe",
        "outputId": "704cb67d-3d90-4208-cb3a-e067842c99f2"
      },
      "execution_count": 69,
      "outputs": [
        {
          "output_type": "stream",
          "name": "stdout",
          "text": [
            "apple\n"
          ]
        },
        {
          "output_type": "execute_result",
          "data": {
            "text/plain": [
              "0"
            ]
          },
          "metadata": {},
          "execution_count": 69
        }
      ]
    },
    {
      "cell_type": "code",
      "source": [
        "# BUG FIXED\n",
        "def list_search(mylist, element):\n",
        "  for item in mylist:\n",
        "    if(item == element):\n",
        "      return 1\n",
        "  return 0"
      ],
      "metadata": {
        "id": "oMhdaT6dBLgb"
      },
      "execution_count": 70,
      "outputs": []
    },
    {
      "cell_type": "code",
      "source": [
        "dummy_list = ['apple', 2, False, 33, 4.13]\n",
        "item_to_search = False\n",
        "list_search(dummy_list, item_to_search)"
      ],
      "metadata": {
        "colab": {
          "base_uri": "https://localhost:8080/"
        },
        "id": "IXABrFk5__dd",
        "outputId": "8bb356f2-adf1-4865-93c4-d042f4cc1754"
      },
      "execution_count": 71,
      "outputs": [
        {
          "output_type": "execute_result",
          "data": {
            "text/plain": [
              "1"
            ]
          },
          "metadata": {},
          "execution_count": 71
        }
      ]
    },
    {
      "cell_type": "code",
      "source": [
        "# Conditional Operator -> TERNARY OPERATOR\n",
        "# TRUE_STATEMENT IF (CONDITION) ELSE FALSE_STATEMENT\n",
        "#example\n",
        "encoding = \"Element FOund\" if (result == 1) else \"Element Not FOund\"\n"
      ],
      "metadata": {
        "id": "RN_QcQiNAJjX"
      },
      "execution_count": 74,
      "outputs": []
    },
    {
      "cell_type": "code",
      "source": [
        "# if number is prime, ignore\n",
        "# else print all the factors of the number!"
      ],
      "metadata": {
        "id": "8felGRy8BsYa"
      },
      "execution_count": 75,
      "outputs": []
    },
    {
      "cell_type": "code",
      "source": [
        "def getFactors(n):\n",
        "  if n<=1:\n",
        "    return [] # empty list-> no factors found!\n",
        "  all_factors = []\n",
        "  for i in range(1,int(n/2) + 1):\n",
        "    if(n%i == 0):\n",
        "      all_factors.append(i)\n",
        "  all_factors.append(n)\n",
        "  return all_factors\n"
      ],
      "metadata": {
        "id": "qS_pD6DuCLPj"
      },
      "execution_count": 89,
      "outputs": []
    },
    {
      "cell_type": "code",
      "source": [
        "# Problem Statement: Print all factors of non-prime numbers between 2 limits!\n",
        "# If the number is prime-> then isPrime returns us 0\n",
        "# Python-> FALSE also means 0\n",
        "# if isPrime's result is non-zero, then the condition is TRUE, and the number is NON PRIME!\n",
        "\n",
        "\n",
        "def AllNonPrimesBetweenLimit(m, n):\n",
        "  for item in range(m, n):\n",
        "    factors = getFactors(item) if(isPrime(item)) else [] \n",
        "    if(len(factors)>0):\n",
        "      print(\"Factors of \" + str(item) + \" = \", end = \" \") \n",
        "      print(factors)"
      ],
      "metadata": {
        "id": "gVg2cQmSCuqI"
      },
      "execution_count": 90,
      "outputs": []
    },
    {
      "cell_type": "code",
      "source": [
        "AllNonPrimesBetweenLimit(5, 15)"
      ],
      "metadata": {
        "colab": {
          "base_uri": "https://localhost:8080/"
        },
        "id": "w8_FrtULEBUC",
        "outputId": "566e9190-116a-4895-f65c-ec407306a091"
      },
      "execution_count": 91,
      "outputs": [
        {
          "output_type": "stream",
          "name": "stdout",
          "text": [
            "Factors of 6 =  [1, 2, 3, 6]\n",
            "Factors of 8 =  [1, 2, 4, 8]\n",
            "Factors of 9 =  [1, 3, 9]\n",
            "Factors of 10 =  [1, 2, 5, 10]\n",
            "Factors of 12 =  [1, 2, 3, 4, 6, 12]\n",
            "Factors of 14 =  [1, 2, 7, 14]\n"
          ]
        }
      ]
    },
    {
      "cell_type": "code",
      "source": [
        "# Can I change this problem statement so that prime factors are printed?\n",
        "# 1 and Prime number itself!\n",
        "def AllFactorsBetweenLimit(m, n):\n",
        "  for item in range(m, n):\n",
        "    factors = getFactors(item) if(isPrime(item)) else [1, item] \n",
        "    if(len(factors)>0):\n",
        "      print(\"Factors of \" + str(item) + \" = \", end = \" \") \n",
        "      print(factors)"
      ],
      "metadata": {
        "id": "fGF9VR0PFw2T"
      },
      "execution_count": 93,
      "outputs": []
    },
    {
      "cell_type": "code",
      "source": [
        "AllFactorsBetweenLimit(5, 12)"
      ],
      "metadata": {
        "colab": {
          "base_uri": "https://localhost:8080/"
        },
        "id": "3zNbEpi6GClx",
        "outputId": "be9d3193-6593-409a-b236-afda9b14c43c"
      },
      "execution_count": 94,
      "outputs": [
        {
          "output_type": "stream",
          "name": "stdout",
          "text": [
            "Factors of 5 =  [1, 5]\n",
            "Factors of 6 =  [1, 2, 3, 6]\n",
            "Factors of 7 =  [1, 7]\n",
            "Factors of 8 =  [1, 2, 4, 8]\n",
            "Factors of 9 =  [1, 3, 9]\n",
            "Factors of 10 =  [1, 2, 5, 10]\n",
            "Factors of 11 =  [1, 11]\n"
          ]
        }
      ]
    },
    {
      "cell_type": "code",
      "source": [
        "if (0):\n",
        "  print(\"this worked\")\n",
        "else:\n",
        "  print(\"this did not work\")"
      ],
      "metadata": {
        "colab": {
          "base_uri": "https://localhost:8080/"
        },
        "id": "dM_0v7ZeDfgR",
        "outputId": "7077451a-5cae-42b9-b656-09c4f109c90f"
      },
      "execution_count": 77,
      "outputs": [
        {
          "output_type": "stream",
          "name": "stdout",
          "text": [
            "this did not work\n"
          ]
        }
      ]
    },
    {
      "cell_type": "code",
      "source": [
        "# we can define a function inside another!\n",
        "\n",
        "def getAllPalindromes(text):\n",
        "  # 1441 -> palindrome \n",
        "  # mom -> palindrome \n",
        "  # banana -> not a palindrome! \n",
        "  def checkPalindrome(word):\n",
        "    ln = len(word) # counted from 1 not 0!\n",
        "    last_element = ln - 1\n",
        "    rev_word = [] \n",
        "    for ch in range(last_element, -1, -1):\n",
        "      rev_word.append(word[ch])\n",
        "    finalword = \"\".join(rev_word) # combine characters to get a SINGLE WORD!\n",
        "\n",
        "    if(word == finalword):\n",
        "      return 1 # palindrome\n",
        "    else:\n",
        "      return 0 # non palindrome\n",
        "  \n",
        "  all_words = text.split(' ')\n",
        "  for eachword in all_words:\n",
        "    result = checkPalindrome(eachword)\n",
        "    if(result == 1):\n",
        "      print(eachword)\n",
        "\n",
        "\n",
        "\n",
        "\n"
      ],
      "metadata": {
        "id": "aPi7WaFIDjQK"
      },
      "execution_count": 116,
      "outputs": []
    },
    {
      "cell_type": "code",
      "source": [
        "getAllPalindromes(\"mom and pop went to see a movie. anna came along.\")"
      ],
      "metadata": {
        "colab": {
          "base_uri": "https://localhost:8080/"
        },
        "id": "gfKN4jBtP3Cd",
        "outputId": "62cbb0b8-91d3-4f9c-8af4-945ecdc09ede"
      },
      "execution_count": 117,
      "outputs": [
        {
          "output_type": "stream",
          "name": "stdout",
          "text": [
            "mom\n",
            "pop\n",
            "a\n",
            "anna\n"
          ]
        }
      ]
    },
    {
      "cell_type": "code",
      "source": [
        "checkPalindrome(\"mom\") # CANNOT BE CALLED OUTSIDE THE PARENT FUNCTION!\n",
        "# THIS USAGE IS LIMITED FOR THE FUNCTION WHO DEFINES THIS FUNCTION INSIDE IT!"
      ],
      "metadata": {
        "colab": {
          "base_uri": "https://localhost:8080/",
          "height": 186
        },
        "id": "-59PP5LaRGRi",
        "outputId": "92a4ee2e-1dec-49a1-a4b6-035884f8936e"
      },
      "execution_count": 118,
      "outputs": [
        {
          "output_type": "error",
          "ename": "NameError",
          "evalue": "ignored",
          "traceback": [
            "\u001b[0;31m---------------------------------------------------------------------------\u001b[0m",
            "\u001b[0;31mNameError\u001b[0m                                 Traceback (most recent call last)",
            "\u001b[0;32m<ipython-input-118-81f4f0e94907>\u001b[0m in \u001b[0;36m<module>\u001b[0;34m()\u001b[0m\n\u001b[0;32m----> 1\u001b[0;31m \u001b[0mcheckPalindrome\u001b[0m\u001b[0;34m(\u001b[0m\u001b[0;34m\"mom\"\u001b[0m\u001b[0;34m)\u001b[0m \u001b[0;31m# CANNOT BE CALLED OUTSIDE THE PARENT FUNCTION!\u001b[0m\u001b[0;34m\u001b[0m\u001b[0;34m\u001b[0m\u001b[0m\n\u001b[0m\u001b[1;32m      2\u001b[0m \u001b[0;31m# THIS USAGE IS LIMITED FOR THE FUNCTION WHO DEFINES THIS FUNCTION INSIDE IT!\u001b[0m\u001b[0;34m\u001b[0m\u001b[0;34m\u001b[0m\u001b[0;34m\u001b[0m\u001b[0m\n",
            "\u001b[0;31mNameError\u001b[0m: name 'checkPalindrome' is not defined"
          ]
        }
      ]
    },
    {
      "cell_type": "code",
      "source": [
        "# LAMBDA FUNCTION\n",
        "# All these functions are stored in RAM!\n",
        "# BUT BECAUSE THERE SIZE IS NOT KNOWN INITIALLY, they are kept separately \n",
        "# from the main program\n",
        "# everytime you invoke a function-> it has to jump in the RAM from one\n",
        "# address to another (function address), execute the function, jump back to original\n",
        "# address to continue old execution! This takes time!\n",
        "# LAMBDA FUNCTION-> 1 LINE (FIXED SIZE) function call!\n",
        "# NO JUMPS ARE REQUIRED and WORKS FASTER THAN A REGULAR FUNCTION!"
      ],
      "metadata": {
        "id": "O7LToEfRRj-2"
      },
      "execution_count": 120,
      "outputs": []
    },
    {
      "cell_type": "code",
      "source": [
        "# also allow very complex function"
      ],
      "metadata": {
        "id": "_-0Pzi0QRj68"
      },
      "execution_count": 121,
      "outputs": []
    },
    {
      "cell_type": "code",
      "source": [
        "mylambda = lambda input : input + 1\n",
        "mylambda(31)"
      ],
      "metadata": {
        "colab": {
          "base_uri": "https://localhost:8080/"
        },
        "id": "2-hzeje7Rj1s",
        "outputId": "8e8a4298-f332-414c-f3d0-294b3628c680"
      },
      "execution_count": 122,
      "outputs": [
        {
          "output_type": "execute_result",
          "data": {
            "text/plain": [
              "32"
            ]
          },
          "metadata": {},
          "execution_count": 122
        }
      ]
    },
    {
      "cell_type": "code",
      "source": [
        "mylambda = lambda ip : True if (ip%2==0) else False\n",
        "mylabda(42)\n",
        "\n"
      ],
      "metadata": {
        "colab": {
          "base_uri": "https://localhost:8080/"
        },
        "id": "9Mwh2aPRRjtv",
        "outputId": "935045ad-9621-4b30-dfd0-1fed6f648e60"
      },
      "execution_count": 124,
      "outputs": [
        {
          "output_type": "execute_result",
          "data": {
            "text/plain": [
              "True"
            ]
          },
          "metadata": {},
          "execution_count": 124
        }
      ]
    },
    {
      "cell_type": "code",
      "source": [
        "power = lambda x,y,z : (x**y)**z\n",
        "power(2,3,2)\n"
      ],
      "metadata": {
        "colab": {
          "base_uri": "https://localhost:8080/"
        },
        "id": "lBWRS_oBSkOJ",
        "outputId": "77637a19-8a07-449b-d364-c27305778905"
      },
      "execution_count": 130,
      "outputs": [
        {
          "output_type": "execute_result",
          "data": {
            "text/plain": [
              "64"
            ]
          },
          "metadata": {},
          "execution_count": 130
        }
      ]
    },
    {
      "cell_type": "code",
      "source": [
        "# COMBINE LAMBDAS and FUNCTIONS!\n",
        "# Code REUSE!\n",
        "# power-> Square, Cube, ^4, ^10!\n",
        "\n",
        "def power(n):\n",
        "  return lambda m: m ** n\n",
        "\n",
        "# power(2) = ? = lambda m: m **2\n",
        "# power(10) = ? = lambda m : m **10\n"
      ],
      "metadata": {
        "id": "QKGbME_KOKEr"
      },
      "execution_count": 131,
      "outputs": []
    },
    {
      "cell_type": "code",
      "source": [
        "squared = power(2) #lambda m: m **2\n",
        "cube = power(3) #lambda m: m **3"
      ],
      "metadata": {
        "id": "tOwoW821OL7v"
      },
      "execution_count": 133,
      "outputs": []
    },
    {
      "cell_type": "code",
      "source": [
        "squared(6)"
      ],
      "metadata": {
        "colab": {
          "base_uri": "https://localhost:8080/"
        },
        "id": "O3rHnVxIOutk",
        "outputId": "657a9751-cc43-49cd-ea8b-8e9fffd12d16"
      },
      "execution_count": 135,
      "outputs": [
        {
          "output_type": "execute_result",
          "data": {
            "text/plain": [
              "36"
            ]
          },
          "metadata": {},
          "execution_count": 135
        }
      ]
    },
    {
      "cell_type": "code",
      "source": [
        "cube(5)"
      ],
      "metadata": {
        "colab": {
          "base_uri": "https://localhost:8080/"
        },
        "id": "s78BXFo_UDDI",
        "outputId": "dc7151e2-7a6d-4453-e456-ff4fdf570e27"
      },
      "execution_count": 136,
      "outputs": [
        {
          "output_type": "execute_result",
          "data": {
            "text/plain": [
              "125"
            ]
          },
          "metadata": {},
          "execution_count": 136
        }
      ]
    },
    {
      "cell_type": "code",
      "source": [
        "# default values!\n",
        "# work for both circle and rectangle!\n",
        "def area(length, breadth=None):\n",
        "  if(breadth == None):\n",
        "    # this could be a circle!\n",
        "    return 3.14 * length * length\n",
        "  else:\n",
        "    return length * breadth\n",
        "\n",
        "print(area(4)) # it has assumed default value of breadth!\n",
        "print(area(5,4)) # default value of breadth is overritten by 4!"
      ],
      "metadata": {
        "colab": {
          "base_uri": "https://localhost:8080/"
        },
        "id": "i5PAa0-jUFZc",
        "outputId": "38657a20-723f-4a52-9e75-082907715e7b"
      },
      "execution_count": 139,
      "outputs": [
        {
          "output_type": "stream",
          "name": "stdout",
          "text": [
            "50.24\n",
            "20\n"
          ]
        }
      ]
    },
    {
      "cell_type": "code",
      "source": [
        ""
      ],
      "metadata": {
        "id": "LrICHcCgVAn7"
      },
      "execution_count": null,
      "outputs": []
    }
  ]
}