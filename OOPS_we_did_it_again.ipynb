{
  "nbformat": 4,
  "nbformat_minor": 0,
  "metadata": {
    "colab": {
      "name": "OOPS we did it again.ipynb",
      "provenance": [],
      "authorship_tag": "ABX9TyNz4UPJWZukqdUkIFgbV0qV",
      "include_colab_link": true
    },
    "kernelspec": {
      "name": "python3",
      "display_name": "Python 3"
    },
    "language_info": {
      "name": "python"
    }
  },
  "cells": [
    {
      "cell_type": "markdown",
      "metadata": {
        "id": "view-in-github",
        "colab_type": "text"
      },
      "source": [
        "<a href=\"https://colab.research.google.com/github/a-forty-two/QAPyJuly22/blob/main/OOPS_we_did_it_again.ipynb\" target=\"_parent\"><img src=\"https://colab.research.google.com/assets/colab-badge.svg\" alt=\"Open In Colab\"/></a>"
      ]
    },
    {
      "cell_type": "code",
      "execution_count": null,
      "metadata": {
        "id": "T0VYnQKmIKfo"
      },
      "outputs": [],
      "source": [
        "# OBJECT-> any real life entity!\n",
        "# 2 types of behaviours:\n",
        "# 1) Functions\n",
        "# 2) variables\n",
        "# these functions and variables are supposed to carry a common meaning!\n",
        "\n",
        "# how should a car behave by defult?\n",
        "# 2 questions\n",
        "# variables-> WHat should this car have?\n",
        "# functions-> what should this car do?\n",
        "class Car:\n",
        "  def __init__(this):\n",
        "     this.number_of_doors = 4\n",
        "     this.default_color = \"silver\"\n",
        "     this.mileage = 80\n",
        "     this.isDriverDoorOpen = False\n",
        "  def openDriverDoor(this):\n",
        "    if(this.isDriverDoorOpen):\n",
        "      return \"Door already open\"\n",
        "    this.isDriverDoorOpen = True\n",
        "    return \"Door Opened\"\n",
        "  def closeDriverDoor(this):\n",
        "    if(not this.isDriverDoorOpen):\n",
        "      return \"Door already closed\"\n",
        "    this.isDriverDoorOpen = False\n",
        "    return \"Door Closed\"\n",
        "  def getCarProperties(this):\n",
        "    return \"Color: {}, Mileage: {}, No. of Doors: {}\".format(this.default_color, this.mileage, this.number_of_doors)\n",
        "    \n",
        "\n"
      ]
    },
    {
      "cell_type": "code",
      "source": [
        "# create an object\n",
        "myCar = Car()\n",
        "dir(myCar)"
      ],
      "metadata": {
        "colab": {
          "base_uri": "https://localhost:8080/"
        },
        "id": "H2BK2WguKpHf",
        "outputId": "157acd9c-0110-4140-b4b0-fa8a0eebda90"
      },
      "execution_count": null,
      "outputs": [
        {
          "output_type": "execute_result",
          "data": {
            "text/plain": [
              "['__class__',\n",
              " '__delattr__',\n",
              " '__dict__',\n",
              " '__dir__',\n",
              " '__doc__',\n",
              " '__eq__',\n",
              " '__format__',\n",
              " '__ge__',\n",
              " '__getattribute__',\n",
              " '__gt__',\n",
              " '__hash__',\n",
              " '__init__',\n",
              " '__init_subclass__',\n",
              " '__le__',\n",
              " '__lt__',\n",
              " '__module__',\n",
              " '__ne__',\n",
              " '__new__',\n",
              " '__reduce__',\n",
              " '__reduce_ex__',\n",
              " '__repr__',\n",
              " '__setattr__',\n",
              " '__sizeof__',\n",
              " '__str__',\n",
              " '__subclasshook__',\n",
              " '__weakref__',\n",
              " 'closeDriverDoor',\n",
              " 'default_color',\n",
              " 'getCarProperties',\n",
              " 'isDriverDoorOpen',\n",
              " 'mileage',\n",
              " 'number_of_doors',\n",
              " 'openDriverDoor']"
            ]
          },
          "metadata": {},
          "execution_count": 2
        }
      ]
    },
    {
      "cell_type": "code",
      "source": [
        "myCar.openDriverDoor()"
      ],
      "metadata": {
        "colab": {
          "base_uri": "https://localhost:8080/",
          "height": 35
        },
        "id": "yW78xUz1KulC",
        "outputId": "ac0074fb-c5dc-47ae-fa23-2a21f1151a0f"
      },
      "execution_count": null,
      "outputs": [
        {
          "output_type": "execute_result",
          "data": {
            "text/plain": [
              "'Door Opened'"
            ],
            "application/vnd.google.colaboratory.intrinsic+json": {
              "type": "string"
            }
          },
          "metadata": {},
          "execution_count": 3
        }
      ]
    },
    {
      "cell_type": "code",
      "source": [
        "myCar.openDriverDoor()"
      ],
      "metadata": {
        "colab": {
          "base_uri": "https://localhost:8080/",
          "height": 35
        },
        "id": "i6P2CAUaK-U6",
        "outputId": "b8d1fce0-f1fa-4c2f-89f1-6d788ef86319"
      },
      "execution_count": null,
      "outputs": [
        {
          "output_type": "execute_result",
          "data": {
            "text/plain": [
              "'Door already open'"
            ],
            "application/vnd.google.colaboratory.intrinsic+json": {
              "type": "string"
            }
          },
          "metadata": {},
          "execution_count": 4
        }
      ]
    },
    {
      "cell_type": "code",
      "source": [
        "# OBJECT-> any real life entity!\n",
        "# 2 types of behaviours:\n",
        "# 1) Functions\n",
        "# 2) variables\n",
        "# these functions and variables are supposed to carry a common meaning!\n",
        "\n",
        "# how should a car behave by defult?\n",
        "# 2 questions\n",
        "# variables-> WHat should this car have?\n",
        "# functions-> what should this car do?\n",
        "class Car:\n",
        "  def __init__(this, colour=\"silver\"):\n",
        "     this.number_of_doors = 4\n",
        "     this.default_color = colour\n",
        "     this.mileage = 80\n",
        "     this.isDriverDoorOpen = False\n",
        "  def setColor(this, color):\n",
        "    this.default_color = color\n",
        "  def openDriverDoor(this):\n",
        "    if(this.isDriverDoorOpen):\n",
        "      return \"Door already open\"\n",
        "    this.isDriverDoorOpen = True\n",
        "    return \"Door Opened\"\n",
        "  def closeDriverDoor(this):\n",
        "    if(not this.isDriverDoorOpen):\n",
        "      return \"Door already closed\"\n",
        "    this.isDriverDoorOpen = False\n",
        "    return \"Door Closed\"\n",
        "  def getCarProperties(this):\n",
        "    return \"Color: {}, Mileage: {}, No. of Doors: {}\".format(this.default_color, this.mileage, this.number_of_doors)\n",
        "    \n",
        "\n"
      ],
      "metadata": {
        "id": "23-9Mk2uLA1j"
      },
      "execution_count": null,
      "outputs": []
    },
    {
      "cell_type": "code",
      "source": [
        "yourCar1 = Car()\n",
        "yourCar2 = Car(\"black\")\n",
        "print(yourCar.setColor(\"orange\"))\n",
        "print(yourCar.getCarProperties())\n",
        "print(yourCar2.getCarProperties())"
      ],
      "metadata": {
        "colab": {
          "base_uri": "https://localhost:8080/"
        },
        "id": "LVKY6HIrLSzI",
        "outputId": "2abccf82-40e6-4317-f183-d266267de413"
      },
      "execution_count": null,
      "outputs": [
        {
          "output_type": "stream",
          "name": "stdout",
          "text": [
            "None\n",
            "Color: orange, Mileage: 80, No. of Doors: 4\n",
            "Color: black, Mileage: 80, No. of Doors: 4\n"
          ]
        }
      ]
    },
    {
      "cell_type": "code",
      "source": [
        "# GENERATORS-> range()-> ()-> next()\n",
        "\n",
        "# natural numbers-> 1, 2, 3..... inf\n",
        "\n",
        "# to create a generator, instead of __init__, we write 2 special functions:\n",
        "# __iter__ -> iteration -> initialize how should your generator start!\n",
        "# __next__ -> How to get the value from the generator?\n",
        "\n",
        "# For natural numbers,\n",
        "# what should be my first number? -> __iter__ -> n = 0\n",
        "# how to generate the next number? -> __next__ -> n = n + 1"
      ],
      "metadata": {
        "id": "VKzfvasALaRd"
      },
      "execution_count": null,
      "outputs": []
    },
    {
      "cell_type": "code",
      "source": [
        "class NaturalNumbers():\n",
        "  def __iter__(self): # FIRST ARG=> always the same CLASS OBJECT!\n",
        "    self.n = 0\n",
        "    return self\n",
        "  def __next__(self):\n",
        "    self.n = self.n + 1\n",
        "    return self.n\n"
      ],
      "metadata": {
        "id": "ThGJpZnqM3IE"
      },
      "execution_count": null,
      "outputs": []
    },
    {
      "cell_type": "code",
      "source": [
        "myNaturalNumberGen = NaturalNumbers()\n",
        "# 2 special functions-> iter(), next()\n",
        "myiter = iter(myNaturalNumberGen)"
      ],
      "metadata": {
        "id": "1wXv5CBqNY6h"
      },
      "execution_count": null,
      "outputs": []
    },
    {
      "cell_type": "code",
      "source": [
        "next(myNaturalNumberGen)"
      ],
      "metadata": {
        "colab": {
          "base_uri": "https://localhost:8080/"
        },
        "id": "EwM9VdF4NjYm",
        "outputId": "978e5a74-3e0e-4cdb-ccde-ffc35804eb19"
      },
      "execution_count": null,
      "outputs": [
        {
          "output_type": "execute_result",
          "data": {
            "text/plain": [
              "1"
            ]
          },
          "metadata": {},
          "execution_count": 17
        }
      ]
    },
    {
      "cell_type": "code",
      "source": [
        "for i in range(10):\n",
        "  print(next(myNaturalNumberGen), end= \" \")"
      ],
      "metadata": {
        "colab": {
          "base_uri": "https://localhost:8080/"
        },
        "id": "lDZS1sreNn4D",
        "outputId": "73ee3077-813f-4659-ab1d-940b5a5ad5de"
      },
      "execution_count": null,
      "outputs": [
        {
          "output_type": "stream",
          "name": "stdout",
          "text": [
            "2 3 4 5 6 7 8 9 10 11 "
          ]
        }
      ]
    },
    {
      "cell_type": "code",
      "source": [
        "# it starts with 2 seeds-> -1 and +1 \n",
        "# 0 1 1 2 3 5 8 13 21 ......\n",
        "\n",
        "# __iter__ = ? = seed1 = -1, seed2 = 1\n",
        "# __next__ = ? = next_num = seed1 + seed2; seed1 = seed2; seed2 = next_num;\n",
        "\n",
        "# __next__ = adding the two seed numbers; swap-> the next 2 numbers are \n",
        "# inside-> seed2 and the current number!\n",
        "# seed1 = seed2\n",
        "# seed2 = number calculated!\n",
        "\n",
        "# s1 = -1, s2 = +1; n = -1 + 1 = 0; s1=1, s2 = 0; \n",
        "# s1 = 1, s2 =0; n = 1 ; s1 = 0; s2 = 1\n",
        "# s1 = 0, s2= 1; n = 1 ; s1= 1; s2 = 1\n",
        "# s1 = 1, s2=1; n = 2 ; s1=1, s2 =2\n",
        "# s1 = 1, s2= 2 ; n = 3 ; swap again! "
      ],
      "metadata": {
        "id": "jPt2UKQDNu1W"
      },
      "execution_count": null,
      "outputs": []
    },
    {
      "cell_type": "code",
      "source": [
        "class Fibonacci():\n",
        "  def __iter__(self):\n",
        "    self.s1 = -1\n",
        "    self.s2 = 1\n",
        "    return self\n",
        "  def __next__(self):\n",
        "    self.n = self.s1 + self.s2\n",
        "    # swap seed1 with seed2\n",
        "    self.s1 = self.s2\n",
        "    # swap seed2 with newly generated number\n",
        "    self.s2 = self.n\n",
        "    #return the answer!\n",
        "    return self.n"
      ],
      "metadata": {
        "id": "6A5_DqQqPx4y"
      },
      "execution_count": null,
      "outputs": []
    },
    {
      "cell_type": "code",
      "source": [
        "series = Fibonacci()\n",
        "myiter = iter(series)"
      ],
      "metadata": {
        "id": "-viwRlG3QOID"
      },
      "execution_count": null,
      "outputs": []
    },
    {
      "cell_type": "code",
      "source": [
        "for i in range(50):\n",
        "  print(next(myiter), end= \" \")"
      ],
      "metadata": {
        "colab": {
          "base_uri": "https://localhost:8080/"
        },
        "id": "EsQLAhcHQVme",
        "outputId": "257ef4fe-a223-4322-80aa-ca160f073f68"
      },
      "execution_count": null,
      "outputs": [
        {
          "output_type": "stream",
          "name": "stdout",
          "text": [
            "0 1 1 2 3 5 8 13 21 34 55 89 144 233 377 610 987 1597 2584 4181 6765 10946 17711 28657 46368 75025 121393 196418 317811 514229 832040 1346269 2178309 3524578 5702887 9227465 14930352 24157817 39088169 63245986 102334155 165580141 267914296 433494437 701408733 1134903170 1836311903 2971215073 4807526976 7778742049 "
          ]
        }
      ]
    },
    {
      "cell_type": "code",
      "source": [
        "# Challenge problem for you!\n",
        "# accept any number N \n",
        "# generate arithmetic series of that number N\n",
        "# N=20\n",
        "# Output = 0 20 40 60 80 100 ....\n",
        "# N = -1\n",
        "# Output = 0 -1 -2 -3 -4 -5...\n",
        "# N = 0\n",
        "# Output = \"So Long, and thank you for all the fish\"\n"
      ],
      "metadata": {
        "id": "lHM7OoWHQbHm"
      },
      "execution_count": null,
      "outputs": []
    },
    {
      "cell_type": "code",
      "source": [
        "class MyClass():\n",
        "  def __init__(self, n):\n",
        "    if(n==0):\n",
        "      print(\"So long and thank you for all the fish\")\n",
        "    else:\n",
        "      self.factor = n\n",
        "  def __iter__(self):\n",
        "    # FIRST ANSWER I NEED-> 0\n",
        "    self.seed = -1 * self.factor\n",
        "    return self\n",
        "  def __next__(self):\n",
        "    self.seed = self.seed + self.factor\n",
        "    return self.seed\n",
        "\n",
        "# 10 -> -10\n",
        "# 0 10 20 30 40 "
      ],
      "metadata": {
        "id": "EyvCPQuzRSec"
      },
      "execution_count": null,
      "outputs": []
    },
    {
      "cell_type": "code",
      "source": [
        "randomseries = MyClass(-1)\n",
        "i = iter(randomseries)\n",
        "for j in range(20):\n",
        "  print(next(i), end=\" \")"
      ],
      "metadata": {
        "colab": {
          "base_uri": "https://localhost:8080/"
        },
        "id": "KV_SX5zsZpbD",
        "outputId": "f39502da-e533-4883-9ab2-73e6d2b7e64e"
      },
      "execution_count": null,
      "outputs": [
        {
          "output_type": "stream",
          "name": "stdout",
          "text": [
            "0 -1 -2 -3 -4 -5 -6 -7 -8 -9 -10 -11 -12 -13 -14 -15 -16 -17 -18 -19 "
          ]
        }
      ]
    },
    {
      "cell_type": "code",
      "source": [
        "# POLYMORPHISM\n",
        "# last definition stays\n",
        "def add():\n",
        "  return 0\n",
        "\n",
        "def add(i):\n",
        "  return i+1\n",
        "\n",
        "def add(i):\n",
        "  return i-1 "
      ],
      "metadata": {
        "id": "R4bF4K72Z0RE"
      },
      "execution_count": null,
      "outputs": []
    },
    {
      "cell_type": "code",
      "source": [
        "add(3)"
      ],
      "metadata": {
        "colab": {
          "base_uri": "https://localhost:8080/"
        },
        "id": "Ct_m1b5DafK5",
        "outputId": "b2a3882a-3450-4e47-b1c1-15c874a1f1b1"
      },
      "execution_count": null,
      "outputs": [
        {
          "output_type": "execute_result",
          "data": {
            "text/plain": [
              "2"
            ]
          },
          "metadata": {},
          "execution_count": 30
        }
      ]
    },
    {
      "cell_type": "code",
      "source": [
        "add()"
      ],
      "metadata": {
        "colab": {
          "base_uri": "https://localhost:8080/",
          "height": 168
        },
        "id": "KWyv4CKiak9_",
        "outputId": "c24e29bd-ebd3-4c9a-c7ec-1807bf9ffeb8"
      },
      "execution_count": null,
      "outputs": [
        {
          "output_type": "error",
          "ename": "TypeError",
          "evalue": "ignored",
          "traceback": [
            "\u001b[0;31m---------------------------------------------------------------------------\u001b[0m",
            "\u001b[0;31mTypeError\u001b[0m                                 Traceback (most recent call last)",
            "\u001b[0;32m<ipython-input-31-d5d29de3ed94>\u001b[0m in \u001b[0;36m<module>\u001b[0;34m()\u001b[0m\n\u001b[0;32m----> 1\u001b[0;31m \u001b[0madd\u001b[0m\u001b[0;34m(\u001b[0m\u001b[0;34m)\u001b[0m\u001b[0;34m\u001b[0m\u001b[0;34m\u001b[0m\u001b[0m\n\u001b[0m",
            "\u001b[0;31mTypeError\u001b[0m: add() missing 1 required positional argument: 'i'"
          ]
        }
      ]
    },
    {
      "cell_type": "code",
      "source": [
        "isinstance(randomseries, Car)"
      ],
      "metadata": {
        "colab": {
          "base_uri": "https://localhost:8080/"
        },
        "id": "vHXUkg-1aoAm",
        "outputId": "a780f12a-9d25-4cfc-a302-c3b3e730f81f"
      },
      "execution_count": null,
      "outputs": [
        {
          "output_type": "execute_result",
          "data": {
            "text/plain": [
              "False"
            ]
          },
          "metadata": {},
          "execution_count": 32
        }
      ]
    },
    {
      "cell_type": "code",
      "source": [
        "class Person:\n",
        "  def __init__(self, name):\n",
        "    self.name = name\n",
        "  def getName(self):\n",
        "    return self.name\n",
        "\n",
        "class Programmer(Person):\n",
        "  def __init__(self, name, lang):\n",
        "    super().__init__(name)\n",
        "    self.lang = lang\n",
        "  "
      ],
      "metadata": {
        "id": "uLtznUpSfuFw"
      },
      "execution_count": null,
      "outputs": []
    },
    {
      "cell_type": "code",
      "source": [
        "javacoder = Programmer(\"Sam\", \"Java\")"
      ],
      "metadata": {
        "id": "rgXJpf7BgSAQ"
      },
      "execution_count": null,
      "outputs": []
    },
    {
      "cell_type": "code",
      "source": [
        "javacoder.getName()"
      ],
      "metadata": {
        "colab": {
          "base_uri": "https://localhost:8080/",
          "height": 35
        },
        "id": "yn2L6t4fgW6G",
        "outputId": "884159ac-c275-422d-9301-1d71fa97c4ba"
      },
      "execution_count": null,
      "outputs": [
        {
          "output_type": "execute_result",
          "data": {
            "text/plain": [
              "'Sam'"
            ],
            "application/vnd.google.colaboratory.intrinsic+json": {
              "type": "string"
            }
          },
          "metadata": {},
          "execution_count": 35
        }
      ]
    },
    {
      "cell_type": "code",
      "source": [
        ""
      ],
      "metadata": {
        "id": "S8XxEMJnmmEH"
      },
      "execution_count": null,
      "outputs": []
    }
  ]
}