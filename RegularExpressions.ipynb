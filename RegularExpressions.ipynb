{
  "nbformat": 4,
  "nbformat_minor": 0,
  "metadata": {
    "colab": {
      "name": "RegularExpressions.ipynb",
      "provenance": [],
      "collapsed_sections": []
    },
    "kernelspec": {
      "name": "python3",
      "display_name": "Python 3"
    },
    "language_info": {
      "name": "python"
    }
  },
  "cells": [
    {
      "cell_type": "code",
      "execution_count": null,
      "metadata": {
        "id": "kL0EXnQoLbl0"
      },
      "outputs": [],
      "source": [
        "# regexr.com\n",
        "# 1) [aA][mM] -> all instances of am, aM, Am, AM\n",
        "# 2) find all (at least) 4 letter words-> [a-z]{4}\n",
        "# 3) find all the digits-> [0-9]{2}\n",
        "# 4) Restaurant-> ORDER_IDs-> AKA123, AKA987, aka786, aKA765\n",
        "# 5) * stands for WILDCARD-> any number of instances-> [aA][kK][aA][0-9]*\n",
        "# 6) + and ? -> exercise for you!"
      ]
    },
    {
      "cell_type": "markdown",
      "source": [
        "Sample text to paste and play in regexer:\n",
        "\n",
        "Mary had a little lamb.\n",
        " ORDER_IDs-> AKA123, AKA987, aka786, aKA765\n",
        "  Non ORDER_IDs-> AK123, KA987, aka78, aKA7\n",
        "I am left with 40 Pounds. \n",
        "I have no idea what am I doing.\n",
        "What AM I?\n",
        "Binary is 0 and 1.\n",
        "Where am I?\n",
        "42 is the answer to life, universe and everything"
      ],
      "metadata": {
        "id": "nM6aG9l1UWzL"
      }
    },
    {
      "cell_type": "code",
      "source": [
        "import re"
      ],
      "metadata": {
        "id": "s8P8th2ObG5U"
      },
      "execution_count": 1,
      "outputs": []
    },
    {
      "cell_type": "code",
      "source": [
        "testy = 'The quick brown fox jumps over the lazy dog'\n",
        "m = re.search(r\"(quick|slow).*(fox|camel)\", testy)\n",
        "if m:\n",
        "  print('Matched', m.groups())\n",
        "  print('Starting at', m.start())\n",
        "  print('Ending at', m.end())\n"
      ],
      "metadata": {
        "colab": {
          "base_uri": "https://localhost:8080/"
        },
        "id": "4WCYOp7qbHit",
        "outputId": "1137ea9f-a57c-4e46-83b1-1945987f67b7"
      },
      "execution_count": 2,
      "outputs": [
        {
          "output_type": "stream",
          "name": "stdout",
          "text": [
            "Matched ('quick', 'fox')\n",
            "Starting at 4\n",
            "Ending at 19\n"
          ]
        }
      ]
    },
    {
      "cell_type": "code",
      "source": [
        "line = 'Perl for Perl Programmers'\n",
        "cs, num = re.subn('Perl', 'Python', line)\n",
        "if num:\n",
        "  print(cs)\n",
        "cs, num = re.subn('Perl', 'Python', line, 1)\n",
        "if num:\n",
        "  print(cs)"
      ],
      "metadata": {
        "colab": {
          "base_uri": "https://localhost:8080/"
        },
        "id": "4H6cZ3l1cBiL",
        "outputId": "cc370b2c-09e3-42e4-c552-41ef95f0279e"
      },
      "execution_count": 3,
      "outputs": [
        {
          "output_type": "stream",
          "name": "stdout",
          "text": [
            "Python for Python Programmers\n",
            "Python for Perl Programmers\n"
          ]
        }
      ]
    },
    {
      "cell_type": "code",
      "source": [
        "# emails: To: shantanu@abc.com, pikachu@abc.com, Vikas@abc.om, Bruno@abc.com \n",
        "send_to = \"shantanu@abc.com,pikachu@abc.com,Vikas@abc.com,Bruno@abc.com\" \n",
        "results = re.split('[,]', send_to)\n",
        "print(results)"
      ],
      "metadata": {
        "colab": {
          "base_uri": "https://localhost:8080/"
        },
        "id": "lc0zHjBrcoik",
        "outputId": "658663f8-7d91-45be-9b24-b247c8c58bf2"
      },
      "execution_count": 4,
      "outputs": [
        {
          "output_type": "stream",
          "name": "stdout",
          "text": [
            "['shantanu@abc.com', 'pikachu@abc.com', 'Vikas@abc.com', 'Bruno@abc.com']\n"
          ]
        }
      ]
    },
    {
      "cell_type": "code",
      "source": [
        ""
      ],
      "metadata": {
        "id": "feomnWFJdbl9"
      },
      "execution_count": null,
      "outputs": []
    }
  ]
}