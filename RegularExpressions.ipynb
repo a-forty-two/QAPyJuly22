{
  "nbformat": 4,
  "nbformat_minor": 0,
  "metadata": {
    "colab": {
      "name": "RegularExpressions.ipynb",
      "provenance": [],
      "authorship_tag": "ABX9TyP0NDTlqnHk0f8MnNkHuCEi",
      "include_colab_link": true
    },
    "kernelspec": {
      "name": "python3",
      "display_name": "Python 3"
    },
    "language_info": {
      "name": "python"
    }
  },
  "cells": [
    {
      "cell_type": "markdown",
      "metadata": {
        "id": "view-in-github",
        "colab_type": "text"
      },
      "source": [
        "<a href=\"https://colab.research.google.com/github/a-forty-two/QAPyJuly22/blob/main/RegularExpressions.ipynb\" target=\"_parent\"><img src=\"https://colab.research.google.com/assets/colab-badge.svg\" alt=\"Open In Colab\"/></a>"
      ]
    },
    {
      "cell_type": "code",
      "execution_count": null,
      "metadata": {
        "id": "kL0EXnQoLbl0"
      },
      "outputs": [],
      "source": [
        "# regexer.com\n",
        "# 1) [aA][mM] -> all instances of am, aM, Am, AM\n",
        "# 2) find all (at least) 4 letter words-> [a-z]{4}\n",
        "# 3) find all the digits-> [0-9]{2}\n",
        "# 4) Restaurant-> ORDER_IDs-> AKA123, AKA987, aka786, aKA765\n",
        "# 5) * stands for WILDCARD-> any number of instances\n",
        "# 6) + and ? -> exercise for you!"
      ]
    },
    {
      "cell_type": "markdown",
      "source": [
        "Sample text to paste and play in regexer:\n",
        "\n",
        "Mary had a little lamb.\n",
        " ORDER_IDs-> AKA123, AKA987, aka786, aKA765\n",
        "  Non ORDER_IDs-> AK123, KA987, aka78, aKA7\n",
        "I am left with 40 Pounds. \n",
        "I have no idea what am I doing.\n",
        "What AM I?\n",
        "Binary is 0 and 1.\n",
        "Where am I?\n",
        "42 is the answer to life, universe and everything"
      ],
      "metadata": {
        "id": "nM6aG9l1UWzL"
      }
    }
  ]
}