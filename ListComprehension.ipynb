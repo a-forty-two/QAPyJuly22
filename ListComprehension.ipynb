{
  "nbformat": 4,
  "nbformat_minor": 0,
  "metadata": {
    "colab": {
      "name": "ListComprehension.ipynb",
      "provenance": [],
      "authorship_tag": "ABX9TyOq+44Gsb6j2IjFaj6Icuqx",
      "include_colab_link": true
    },
    "kernelspec": {
      "name": "python3",
      "display_name": "Python 3"
    },
    "language_info": {
      "name": "python"
    }
  },
  "cells": [
    {
      "cell_type": "markdown",
      "metadata": {
        "id": "view-in-github",
        "colab_type": "text"
      },
      "source": [
        "<a href=\"https://colab.research.google.com/github/a-forty-two/QAPyJuly22/blob/main/ListComprehension.ipynb\" target=\"_parent\"><img src=\"https://colab.research.google.com/assets/colab-badge.svg\" alt=\"Open In Colab\"/></a>"
      ]
    },
    {
      "cell_type": "code",
      "execution_count": 1,
      "metadata": {
        "colab": {
          "base_uri": "https://localhost:8080/"
        },
        "id": "mG9-MEvsgQAo",
        "outputId": "7049b9b5-f7d4-4bbc-bf09-933cc56bda7b"
      },
      "outputs": [
        {
          "output_type": "stream",
          "name": "stdout",
          "text": [
            "[0, 1, 2, 3, 4, 5, 6, 7, 8, 9, 10, 11, 12, 13, 14, 15, 16, 17, 18, 19]\n"
          ]
        }
      ],
      "source": [
        "anylist = list(range(20))\n",
        "print(anylist)"
      ]
    },
    {
      "cell_type": "code",
      "source": [
        "# I wanted a common ops applied on EVERY element on this list!\n",
        "# as a result, I want a list back!\n",
        "\n",
        "# Problem Statement-> square of every number!\n",
        "\n",
        "# 2 ways of doing it\n",
        "# for loop, appended it to a list, print the list\n",
        "# 2nd option-> LIST COMPREHENSION\n",
        "\n",
        "newlist =  [ element*element for element in anylist ]"
      ],
      "metadata": {
        "id": "RzfSnm6AgXi5"
      },
      "execution_count": 2,
      "outputs": []
    },
    {
      "cell_type": "code",
      "source": [
        "print(newlist)"
      ],
      "metadata": {
        "colab": {
          "base_uri": "https://localhost:8080/"
        },
        "id": "_dvtZ-3og1Po",
        "outputId": "21b6aa6b-376b-4809-cdc8-13236cc9195b"
      },
      "execution_count": 4,
      "outputs": [
        {
          "output_type": "stream",
          "name": "stdout",
          "text": [
            "[0, 1, 4, 9, 16, 25, 36, 49, 64, 81, 100, 121, 144, 169, 196, 225, 256, 289, 324, 361]\n"
          ]
        }
      ]
    },
    {
      "cell_type": "code",
      "source": [
        "dic1 = {\"one\": 0, \"two\": 1, \"three\": 2}\n",
        "dic2 = { key:value+1 for key,value in dic1.items() }"
      ],
      "metadata": {
        "id": "IjZb_Yiag1-f"
      },
      "execution_count": 5,
      "outputs": []
    },
    {
      "cell_type": "code",
      "source": [
        "print(dic2)"
      ],
      "metadata": {
        "colab": {
          "base_uri": "https://localhost:8080/"
        },
        "id": "5blYyqaRiLMN",
        "outputId": "b565648d-ff2f-46da-ad28-32dc81155e3e"
      },
      "execution_count": 6,
      "outputs": [
        {
          "output_type": "stream",
          "name": "stdout",
          "text": [
            "{'one': 1, 'two': 2, 'three': 3}\n"
          ]
        }
      ]
    },
    {
      "cell_type": "code",
      "source": [
        "rev_dic1 = { value:key for key,value in dic1.items()}\n",
        "print(rev_dic1)"
      ],
      "metadata": {
        "colab": {
          "base_uri": "https://localhost:8080/"
        },
        "id": "Gx_vgz9EiMw7",
        "outputId": "01f8d3b1-93ff-40bc-b660-60d9f24ea7b1"
      },
      "execution_count": 7,
      "outputs": [
        {
          "output_type": "stream",
          "name": "stdout",
          "text": [
            "{0: 'one', 1: 'two', 2: 'three'}\n"
          ]
        }
      ]
    },
    {
      "cell_type": "code",
      "source": [
        ""
      ],
      "metadata": {
        "id": "h7bgc3xJiU0V"
      },
      "execution_count": null,
      "outputs": []
    }
  ]
}