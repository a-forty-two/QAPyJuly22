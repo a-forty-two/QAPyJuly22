{
  "nbformat": 4,
  "nbformat_minor": 0,
  "metadata": {
    "colab": {
      "name": "FileOps.ipynb",
      "provenance": [],
      "authorship_tag": "ABX9TyMQH3iTKgaEAPqCWLMGps6M",
      "include_colab_link": true
    },
    "kernelspec": {
      "name": "python3",
      "display_name": "Python 3"
    },
    "language_info": {
      "name": "python"
    }
  },
  "cells": [
    {
      "cell_type": "markdown",
      "metadata": {
        "id": "view-in-github",
        "colab_type": "text"
      },
      "source": [
        "<a href=\"https://colab.research.google.com/github/a-forty-two/QAPyJuly22/blob/main/FileOps.ipynb\" target=\"_parent\"><img src=\"https://colab.research.google.com/assets/colab-badge.svg\" alt=\"Open In Colab\"/></a>"
      ]
    },
    {
      "cell_type": "code",
      "execution_count": 1,
      "metadata": {
        "id": "rETpTgDiR_26"
      },
      "outputs": [],
      "source": [
        "# Writing into a file!\n",
        "# File could be of 2 types:\n",
        "# text file- CSV, notepad, Word, Excel\n",
        "# binary file- 010101010 combos!- executible files, streaming data"
      ]
    },
    {
      "cell_type": "code",
      "source": [
        "# r,w,a - read/write/append\n",
        "# b,t - binary or text\n",
        "# wt - write text, rt- read text\n",
        "abc = open(\"random.txt\", \"wt\")\n",
        "# OPEN the file-> read or write -> Close the file!"
      ],
      "metadata": {
        "id": "f8qVudfvSSL4"
      },
      "execution_count": 8,
      "outputs": []
    },
    {
      "cell_type": "code",
      "source": [
        "abc.writelines([\"I want to go home.\"])"
      ],
      "metadata": {
        "id": "NFya5QUASiLY"
      },
      "execution_count": 9,
      "outputs": []
    },
    {
      "cell_type": "code",
      "source": [
        "abc.close()"
      ],
      "metadata": {
        "id": "5y7Pdk42S1BF"
      },
      "execution_count": 10,
      "outputs": []
    },
    {
      "cell_type": "code",
      "source": [
        "bcd = open(\"random.txt\", \"rt\")\n",
        "bcd.read(10)"
      ],
      "metadata": {
        "colab": {
          "base_uri": "https://localhost:8080/",
          "height": 35
        },
        "id": "Y7Hz49vOS3yy",
        "outputId": "28efceaf-7176-4f7c-f9ba-30b8542b73cd"
      },
      "execution_count": 15,
      "outputs": [
        {
          "output_type": "execute_result",
          "data": {
            "text/plain": [
              "'I want to '"
            ],
            "application/vnd.google.colaboratory.intrinsic+json": {
              "type": "string"
            }
          },
          "metadata": {},
          "execution_count": 15
        }
      ]
    },
    {
      "cell_type": "code",
      "source": [
        "bcd.readline()\n",
        "# it has printed whatever was left!\n",
        "# so be careful to either use .read or .readline!\n",
        "# if you mix them up, the readline with start at where read() left at"
      ],
      "metadata": {
        "colab": {
          "base_uri": "https://localhost:8080/",
          "height": 35
        },
        "id": "RVwz00WVTwAW",
        "outputId": "27a21959-6892-4758-e8d2-28d47d3c47c6"
      },
      "execution_count": 17,
      "outputs": [
        {
          "output_type": "execute_result",
          "data": {
            "text/plain": [
              "''"
            ],
            "application/vnd.google.colaboratory.intrinsic+json": {
              "type": "string"
            }
          },
          "metadata": {},
          "execution_count": 17
        }
      ]
    },
    {
      "cell_type": "code",
      "source": [
        "abc.close()"
      ],
      "metadata": {
        "id": "F5e1CrrtT0ne"
      },
      "execution_count": 18,
      "outputs": []
    },
    {
      "cell_type": "code",
      "source": [
        "abc = open('random.txt', \"at\")\n",
        "\n",
        "abc.writelines([\"Bye bye.\", \"hello world\", \"What's for dinner?\"])\n",
        "abc.close()\n",
        "# APPEND Mode-> so that previous content is NOT deleted, and new \n",
        "# content can be placed at the bottom of the file!"
      ],
      "metadata": {
        "id": "klM_WZnBUHL7"
      },
      "execution_count": 20,
      "outputs": []
    },
    {
      "cell_type": "code",
      "source": [
        "bcd = open(\"random.txt\", \"rt\")\n",
        "alllines = bcd.read().splitlines()"
      ],
      "metadata": {
        "id": "PWfbrOf4Ujc4"
      },
      "execution_count": 21,
      "outputs": []
    },
    {
      "cell_type": "code",
      "source": [
        "print(alllines)"
      ],
      "metadata": {
        "colab": {
          "base_uri": "https://localhost:8080/"
        },
        "id": "xnmN7OPoUsST",
        "outputId": "1e557f38-b9f6-4ae5-ff54-a48e72208c2b"
      },
      "execution_count": 22,
      "outputs": [
        {
          "output_type": "stream",
          "name": "stdout",
          "text": [
            "[\"I want to go home.Bye bye.hello worldWhat's for dinner?\"]\n"
          ]
        }
      ]
    },
    {
      "cell_type": "code",
      "source": [
        "abc = open('random.txt', \"at\")\n",
        "# \\n can be used to change the line\n",
        "abc.writelines([\"\\nBye bye.\\n\", \"hello world\\n\", \"What's for dinner?\"])\n",
        "abc.close()\n",
        "# APPEND Mode-> so that previous content is NOT deleted, and new \n",
        "# content can be placed at the bottom of the file!"
      ],
      "metadata": {
        "id": "1rEgjh4xUufG"
      },
      "execution_count": 26,
      "outputs": []
    },
    {
      "cell_type": "code",
      "source": [
        "bcd = open(\"random.txt\", \"rt\")\n",
        "alllines = bcd.read().splitlines()\n",
        "print(alllines)"
      ],
      "metadata": {
        "colab": {
          "base_uri": "https://localhost:8080/"
        },
        "id": "Dn0Qwl-mU8YW",
        "outputId": "49baecbb-f904-4c2f-df87-6df1b8dd5879"
      },
      "execution_count": 27,
      "outputs": [
        {
          "output_type": "stream",
          "name": "stdout",
          "text": [
            "[\"I want to go home.Bye bye.hello worldWhat's for dinner?Bye bye.\", 'hello world', \"What's for dinner?\", 'Bye bye.', 'hello world', \"What's for dinner?\"]\n"
          ]
        }
      ]
    },
    {
      "cell_type": "code",
      "source": [
        "# VERY COMMON FILE ERROR:\n",
        "# PEOPLE OPEN THE FILE, but FOREGT to CLOSE IT!!!!!\n",
        "# you have an accidental LOCK on the file because of which\n",
        "# it can get corrupted, other malicious programs can use it\n",
        "# can lead to permenant damage to the file\n",
        "\n",
        "# Following is the SAFE way to operate a file\n",
        "# this way, you don't need to explicitly close the file\n",
        "# once the last statement (inside 'with') is executed, the FILE \n",
        "# automatically closes!\n",
        "with open('random.txt', 'r') as infile:\n",
        "  for line in infile:\n",
        "    print(line, end='\\n')\n"
      ],
      "metadata": {
        "colab": {
          "base_uri": "https://localhost:8080/"
        },
        "id": "2pEtS7TWU_sm",
        "outputId": "c141f2fc-df07-40c3-f99e-def9789c5463"
      },
      "execution_count": 28,
      "outputs": [
        {
          "output_type": "stream",
          "name": "stdout",
          "text": [
            "I want to go home.Bye bye.hello worldWhat's for dinner?Bye bye.\n",
            "\n",
            "hello world\n",
            "\n",
            "What's for dinner?\n",
            "\n",
            "Bye bye.\n",
            "\n",
            "hello world\n",
            "\n",
            "What's for dinner?\n"
          ]
        }
      ]
    },
    {
      "cell_type": "code",
      "source": [
        "print('pika pika pikachu', file=open('blah.txt','wt'))\n",
        "# shortcut-> print can also write data inside Files!"
      ],
      "metadata": {
        "id": "W_lC2tmvWJGv"
      },
      "execution_count": 30,
      "outputs": []
    },
    {
      "cell_type": "code",
      "source": [
        ""
      ],
      "metadata": {
        "id": "tHmy_5MjXSKE"
      },
      "execution_count": null,
      "outputs": []
    }
  ]
}