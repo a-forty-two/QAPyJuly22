{
  "nbformat": 4,
  "nbformat_minor": 0,
  "metadata": {
    "colab": {
      "name": "DataStructures-Collections.ipynb",
      "provenance": [],
      "collapsed_sections": [],
      "authorship_tag": "ABX9TyOXmn3/nUkDlHpDwhnEaasX",
      "include_colab_link": true
    },
    "kernelspec": {
      "name": "python3",
      "display_name": "Python 3"
    },
    "language_info": {
      "name": "python"
    }
  },
  "cells": [
    {
      "cell_type": "markdown",
      "metadata": {
        "id": "view-in-github",
        "colab_type": "text"
      },
      "source": [
        "<a href=\"https://colab.research.google.com/github/a-forty-two/QAPyJuly22/blob/main/MoreCollectionsOps.ipynb\" target=\"_parent\"><img src=\"https://colab.research.google.com/assets/colab-badge.svg\" alt=\"Open In Colab\"/></a>"
      ]
    },
    {
      "cell_type": "code",
      "execution_count": 1,
      "metadata": {
        "id": "Gbi_a8MkDVWj"
      },
      "outputs": [],
      "source": [
        "# ENSURE-> AUTOMATION \n",
        "# write instruction one after the other-> REPL\n",
        "# Read Edit Print Loop \n",
        "\n",
        "# Uses of automation-> \n",
        "# AI, robots, OS, FILE, uploads and downloads!\n",
        "# MOVIE, SONG, Scanning a fingerprint!"
      ]
    },
    {
      "cell_type": "code",
      "source": [
        "# Computers-> a lot of diff types of data\n",
        "# numbers, char, floating"
      ],
      "metadata": {
        "id": "F6i0MSTNFWvr"
      },
      "execution_count": 2,
      "outputs": []
    },
    {
      "cell_type": "code",
      "source": [
        "a=1\n",
        "print(\"%d\", a)"
      ],
      "metadata": {
        "colab": {
          "base_uri": "https://localhost:8080/"
        },
        "id": "FibbFtH8Ffc0",
        "outputId": "67efd4de-656f-4185-9ae7-c11d499ef89b"
      },
      "execution_count": 3,
      "outputs": [
        {
          "output_type": "stream",
          "name": "stdout",
          "text": [
            "%d 1\n"
          ]
        }
      ]
    },
    {
      "cell_type": "code",
      "source": [
        "print(\"Hello \\n World\")"
      ],
      "metadata": {
        "colab": {
          "base_uri": "https://localhost:8080/"
        },
        "id": "pkFbNJUMFlr_",
        "outputId": "aef9a61f-ec2e-4caf-d575-926853ea5875"
      },
      "execution_count": 6,
      "outputs": [
        {
          "output_type": "stream",
          "name": "stdout",
          "text": [
            "Hello \n",
            " World\n"
          ]
        }
      ]
    },
    {
      "cell_type": "code",
      "source": [
        "print(\"Hello\\tWorld\\nByeBye\")"
      ],
      "metadata": {
        "colab": {
          "base_uri": "https://localhost:8080/"
        },
        "id": "RPTuIAiSFuL9",
        "outputId": "b611f399-cbe8-4871-d015-8689e6f17f28"
      },
      "execution_count": 7,
      "outputs": [
        {
          "output_type": "stream",
          "name": "stdout",
          "text": [
            "Hello\tWorld\n",
            "ByeBye\n"
          ]
        }
      ]
    },
    {
      "cell_type": "code",
      "source": [
        "a = \"John\"\n",
        "b = \"Smith\"\n",
        "\n",
        "print(\"Hello {}\".format(b))\n",
        "\n",
        "# STRING IS ALSO FOR AUTOMATION!"
      ],
      "metadata": {
        "colab": {
          "base_uri": "https://localhost:8080/"
        },
        "id": "_WPVwc7WF-h1",
        "outputId": "c98f8c2c-989c-498d-dcb4-0a7fbf376d25"
      },
      "execution_count": 10,
      "outputs": [
        {
          "output_type": "stream",
          "name": "stdout",
          "text": [
            "Hello Smith\n"
          ]
        }
      ]
    },
    {
      "cell_type": "code",
      "source": [
        "print(\"Hello {},{}\".format(b, a))"
      ],
      "metadata": {
        "colab": {
          "base_uri": "https://localhost:8080/"
        },
        "id": "br8Z1D7qGgXy",
        "outputId": "849f3849-9dd4-4ed2-cb1b-6c5ba7ce1218"
      },
      "execution_count": 11,
      "outputs": [
        {
          "output_type": "stream",
          "name": "stdout",
          "text": [
            "Hello Smith,John\n"
          ]
        }
      ]
    },
    {
      "cell_type": "code",
      "source": [
        "print(\"Hello {},{}\\nHow are you?\".format(b, a))"
      ],
      "metadata": {
        "colab": {
          "base_uri": "https://localhost:8080/"
        },
        "id": "cMEz_uisGwNo",
        "outputId": "4d883eb8-307e-46d0-9e5d-876f0194641d"
      },
      "execution_count": 12,
      "outputs": [
        {
          "output_type": "stream",
          "name": "stdout",
          "text": [
            "Hello Smith,John\n",
            "How are you?\n"
          ]
        }
      ]
    },
    {
      "cell_type": "code",
      "source": [
        "# special characters-> \\n \\t -> hold a special meaning \n",
        "# {} -> to replace and format your string "
      ],
      "metadata": {
        "id": "ssFpy3IIG2ZJ"
      },
      "execution_count": 13,
      "outputs": []
    },
    {
      "cell_type": "code",
      "source": [
        "print(\"Hello {lname},{fname}\\nHow are you?\".format(fname=a, lname=b))"
      ],
      "metadata": {
        "colab": {
          "base_uri": "https://localhost:8080/"
        },
        "id": "3U5zZAtIHBQV",
        "outputId": "80c6ab2e-d145-4d38-fb41-78291873af71"
      },
      "execution_count": 14,
      "outputs": [
        {
          "output_type": "stream",
          "name": "stdout",
          "text": [
            "Hello Smith,John\n",
            "How are you?\n"
          ]
        }
      ]
    },
    {
      "cell_type": "code",
      "source": [
        "2+3"
      ],
      "metadata": {
        "colab": {
          "base_uri": "https://localhost:8080/"
        },
        "id": "NvmRA4ihHuAr",
        "outputId": "66d62a14-5059-4f34-bd98-c8b36da801a1"
      },
      "execution_count": 15,
      "outputs": [
        {
          "output_type": "execute_result",
          "data": {
            "text/plain": [
              "5"
            ]
          },
          "metadata": {},
          "execution_count": 15
        }
      ]
    },
    {
      "cell_type": "code",
      "source": [
        "'hello world'"
      ],
      "metadata": {
        "colab": {
          "base_uri": "https://localhost:8080/",
          "height": 35
        },
        "id": "DeWUksdnIJfz",
        "outputId": "dafcc48f-cf7d-4d75-d637-4783cf42af1b"
      },
      "execution_count": 16,
      "outputs": [
        {
          "output_type": "execute_result",
          "data": {
            "text/plain": [
              "'hello world'"
            ],
            "application/vnd.google.colaboratory.intrinsic+json": {
              "type": "string"
            }
          },
          "metadata": {},
          "execution_count": 16
        }
      ]
    },
    {
      "cell_type": "code",
      "source": [
        "a=1\n",
        "b=2\n",
        "print(f'one plus one is {a+b}')\n",
        "# f in the beginning of the string-> also results in formatting "
      ],
      "metadata": {
        "colab": {
          "base_uri": "https://localhost:8080/"
        },
        "id": "q_Xse8jqILXU",
        "outputId": "3873b8ca-a65b-45f8-8c05-68f15b48841c"
      },
      "execution_count": 20,
      "outputs": [
        {
          "output_type": "stream",
          "name": "stdout",
          "text": [
            "one plus one is 3\n"
          ]
        }
      ]
    },
    {
      "cell_type": "code",
      "source": [
        "# MULTIPLE VALUES\n",
        "# messages to 3 people \n",
        "# multiple values-> LIST - is represented by [ ]\n",
        "names = [ \"John Smith\", \"Jane Smith\", \"Pikachu\" ]\n",
        "# in programming-> counting starts from 0 and not 1\n",
        "print(names[0])"
      ],
      "metadata": {
        "colab": {
          "base_uri": "https://localhost:8080/"
        },
        "id": "Z9DU42U2IRVh",
        "outputId": "0446edf8-60b2-4e07-ed37-9af062d82494"
      },
      "execution_count": 22,
      "outputs": [
        {
          "output_type": "stream",
          "name": "stdout",
          "text": [
            "John Smith\n"
          ]
        }
      ]
    },
    {
      "cell_type": "code",
      "source": [
        "print(names[1])"
      ],
      "metadata": {
        "colab": {
          "base_uri": "https://localhost:8080/"
        },
        "id": "JDXs1o8NNshk",
        "outputId": "e4cf5eea-a81c-4d22-c02e-6e121dc20ab5"
      },
      "execution_count": 23,
      "outputs": [
        {
          "output_type": "stream",
          "name": "stdout",
          "text": [
            "Jane Smith\n"
          ]
        }
      ]
    },
    {
      "cell_type": "code",
      "source": [
        "print(names[2])"
      ],
      "metadata": {
        "colab": {
          "base_uri": "https://localhost:8080/"
        },
        "id": "zyiuFOCIN2qq",
        "outputId": "f8132771-6284-4622-8730-27df61538d1f"
      },
      "execution_count": 24,
      "outputs": [
        {
          "output_type": "stream",
          "name": "stdout",
          "text": [
            "Pikachu\n"
          ]
        }
      ]
    },
    {
      "cell_type": "code",
      "source": [
        "# Example-> names[3] should NOT work because there are NO such elements!\n",
        "print(names[3])\n",
        "# ERORR EXPECTED\n",
        "\n",
        "# WHENEVER your error - list index out of range\n",
        "# INDEX is this 0,1,2 position that we just checked out\n",
        "# this error means you are trying to refer to a POSITION at which NO ELEMENT exists!"
      ],
      "metadata": {
        "colab": {
          "base_uri": "https://localhost:8080/",
          "height": 239
        },
        "id": "5klhn5oFN5AC",
        "outputId": "5f85dac8-9dda-473d-b842-ad8543a3232e"
      },
      "execution_count": 26,
      "outputs": [
        {
          "output_type": "error",
          "ename": "IndexError",
          "evalue": "ignored",
          "traceback": [
            "\u001b[0;31m---------------------------------------------------------------------------\u001b[0m",
            "\u001b[0;31mIndexError\u001b[0m                                Traceback (most recent call last)",
            "\u001b[0;32m<ipython-input-26-bfe5a7793775>\u001b[0m in \u001b[0;36m<module>\u001b[0;34m()\u001b[0m\n\u001b[1;32m      1\u001b[0m \u001b[0;31m# Example-> names[3] should NOT work because there are NO such elements!\u001b[0m\u001b[0;34m\u001b[0m\u001b[0;34m\u001b[0m\u001b[0;34m\u001b[0m\u001b[0m\n\u001b[0;32m----> 2\u001b[0;31m \u001b[0mprint\u001b[0m\u001b[0;34m(\u001b[0m\u001b[0mnames\u001b[0m\u001b[0;34m[\u001b[0m\u001b[0;36m3\u001b[0m\u001b[0;34m]\u001b[0m\u001b[0;34m)\u001b[0m\u001b[0;34m\u001b[0m\u001b[0;34m\u001b[0m\u001b[0m\n\u001b[0m\u001b[1;32m      3\u001b[0m \u001b[0;31m# ERORR EXPECTED\u001b[0m\u001b[0;34m\u001b[0m\u001b[0;34m\u001b[0m\u001b[0;34m\u001b[0m\u001b[0m\n\u001b[1;32m      4\u001b[0m \u001b[0;34m\u001b[0m\u001b[0m\n\u001b[1;32m      5\u001b[0m \u001b[0;31m# WHENEVER your error - list index out of range\u001b[0m\u001b[0;34m\u001b[0m\u001b[0;34m\u001b[0m\u001b[0;34m\u001b[0m\u001b[0m\n",
            "\u001b[0;31mIndexError\u001b[0m: list index out of range"
          ]
        }
      ]
    },
    {
      "cell_type": "code",
      "source": [
        "# POSITIVE (and 0) numbers are counted from left to right\n",
        "# NEGATIVE numbers-> counted from right to left\n",
        "print(names[-1])"
      ],
      "metadata": {
        "colab": {
          "base_uri": "https://localhost:8080/"
        },
        "id": "WZ4jHFjOOBlX",
        "outputId": "555077e6-c65c-4d2e-d6b5-7edc79203548"
      },
      "execution_count": 27,
      "outputs": [
        {
          "output_type": "stream",
          "name": "stdout",
          "text": [
            "Pikachu\n"
          ]
        }
      ]
    },
    {
      "cell_type": "code",
      "source": [
        "print(names[-3])"
      ],
      "metadata": {
        "colab": {
          "base_uri": "https://localhost:8080/"
        },
        "id": "Ji9ObWpyO9AG",
        "outputId": "2ef3fc92-7842-4dfc-ecb2-1ed5d8e13197"
      },
      "execution_count": 28,
      "outputs": [
        {
          "output_type": "stream",
          "name": "stdout",
          "text": [
            "John Smith\n"
          ]
        }
      ]
    },
    {
      "cell_type": "code",
      "source": [
        "print(names[-4])"
      ],
      "metadata": {
        "colab": {
          "base_uri": "https://localhost:8080/",
          "height": 168
        },
        "id": "sO2e-4-VPDSP",
        "outputId": "ef067b6a-62d3-4530-af8d-7ead4002b8bc"
      },
      "execution_count": 29,
      "outputs": [
        {
          "output_type": "error",
          "ename": "IndexError",
          "evalue": "ignored",
          "traceback": [
            "\u001b[0;31m---------------------------------------------------------------------------\u001b[0m",
            "\u001b[0;31mIndexError\u001b[0m                                Traceback (most recent call last)",
            "\u001b[0;32m<ipython-input-29-2e182a90b17e>\u001b[0m in \u001b[0;36m<module>\u001b[0;34m()\u001b[0m\n\u001b[0;32m----> 1\u001b[0;31m \u001b[0mprint\u001b[0m\u001b[0;34m(\u001b[0m\u001b[0mnames\u001b[0m\u001b[0;34m[\u001b[0m\u001b[0;34m-\u001b[0m\u001b[0;36m4\u001b[0m\u001b[0;34m]\u001b[0m\u001b[0;34m)\u001b[0m\u001b[0;34m\u001b[0m\u001b[0;34m\u001b[0m\u001b[0m\n\u001b[0m",
            "\u001b[0;31mIndexError\u001b[0m: list index out of range"
          ]
        }
      ]
    },
    {
      "cell_type": "code",
      "source": [
        "# CONDITION -> if (CONDITION )-> what to do, else -> what to do\n",
        "a = 1\n",
        "b = 2\n",
        "if(a<b):\n",
        "  print(\"hello world\")\n",
        "else:\n",
        "  print(\"bye bye world\")\n",
        "# PYTHON has a BIG PROBLEM with spaces!\n",
        "# recommend-> use TAB instead of spaces\n",
        "# if the space is inconsistent then also we get errors!"
      ],
      "metadata": {
        "colab": {
          "base_uri": "https://localhost:8080/"
        },
        "id": "gnFnGqc8PIFU",
        "outputId": "252d27af-60be-4143-c071-604a0bf3bde3"
      },
      "execution_count": 30,
      "outputs": [
        {
          "output_type": "stream",
          "name": "stdout",
          "text": [
            "hello world\n"
          ]
        }
      ]
    },
    {
      "cell_type": "code",
      "source": [
        "# error demo\n",
        "a = 1\n",
        "b = 2\n",
        "if(a<b):\n",
        "print(\"hello world\")\n",
        "else:\n",
        "print(\"bye bye world\")\n",
        "# indentation -> SPACE to LEAVE from left side!\n",
        "# whenever we get INDENTATION ERROR-> look for code blocks like IF and ELSE statements!"
      ],
      "metadata": {
        "colab": {
          "base_uri": "https://localhost:8080/",
          "height": 133
        },
        "id": "ERd95AXUPot6",
        "outputId": "3b870084-a7ee-43f3-bced-93abaf7762c7"
      },
      "execution_count": 31,
      "outputs": [
        {
          "output_type": "error",
          "ename": "IndentationError",
          "evalue": "ignored",
          "traceback": [
            "\u001b[0;36m  File \u001b[0;32m\"<ipython-input-31-badc4f924eef>\"\u001b[0;36m, line \u001b[0;32m5\u001b[0m\n\u001b[0;31m    print(\"hello world\")\u001b[0m\n\u001b[0m        ^\u001b[0m\n\u001b[0;31mIndentationError\u001b[0m\u001b[0;31m:\u001b[0m expected an indented block\n"
          ]
        }
      ]
    },
    {
      "cell_type": "code",
      "source": [
        "# Collections -> group of elements together\n",
        "# 1) LIST = [ ]\n",
        "mylist = [ 1, 2, False, True, \"Blah Blah\"]\n",
        "# INDEXED COLLECTION\n",
        "print(mylist[1])\n",
        "# 1 at the beginning, and \"Blah Blah\" in the end-> this ORDER is NEVER going to change \n",
        "# ORDERED COLLECTION"
      ],
      "metadata": {
        "colab": {
          "base_uri": "https://localhost:8080/"
        },
        "id": "jPe8Nb-mP6Gj",
        "outputId": "d14bab2d-7f3f-4ca8-edf0-8956bf2b6b19"
      },
      "execution_count": 32,
      "outputs": [
        {
          "output_type": "execute_result",
          "data": {
            "text/plain": [
              "2"
            ]
          },
          "metadata": {},
          "execution_count": 32
        }
      ]
    },
    {
      "cell_type": "code",
      "source": [
        "mylist.append(\"I am here\") # APPENDING inserts elements \n",
        "mylist"
      ],
      "metadata": {
        "colab": {
          "base_uri": "https://localhost:8080/"
        },
        "id": "rcPDjEdVY5T1",
        "outputId": "9b388e62-133f-478f-eb3f-6771cc417bda"
      },
      "execution_count": 50,
      "outputs": [
        {
          "output_type": "execute_result",
          "data": {
            "text/plain": [
              "[1, 2, False, True, 'Blah Blah', 'I am here']"
            ]
          },
          "metadata": {},
          "execution_count": 50
        }
      ]
    },
    {
      "cell_type": "code",
      "source": [
        "otherlist = [mylist, 1, 2]\n",
        "otherlist\n",
        "# Lists can be inside other lists!"
      ],
      "metadata": {
        "colab": {
          "base_uri": "https://localhost:8080/"
        },
        "id": "ocgeDu0WWF0U",
        "outputId": "19f8f813-c61c-4d0c-ac0f-a7d69d88a025"
      },
      "execution_count": 33,
      "outputs": [
        {
          "output_type": "execute_result",
          "data": {
            "text/plain": [
              "[[1, 2, False, True, 'Blah Blah'], 1, 2]"
            ]
          },
          "metadata": {},
          "execution_count": 33
        }
      ]
    },
    {
      "cell_type": "code",
      "source": [
        "# otherlist[0] -> would point to the first list, and we can place [ more_indexes ]\n",
        "otherlist[0][2]\n",
        "# If we have a LIst inside a list, just place more square brackets!"
      ],
      "metadata": {
        "colab": {
          "base_uri": "https://localhost:8080/"
        },
        "id": "3pM6abKYWbpp",
        "outputId": "cc009533-70a6-4e46-950f-562410de5e13"
      },
      "execution_count": 35,
      "outputs": [
        {
          "output_type": "execute_result",
          "data": {
            "text/plain": [
              "False"
            ]
          },
          "metadata": {},
          "execution_count": 35
        }
      ]
    },
    {
      "cell_type": "code",
      "source": [
        "thirdlist = [mylist, otherlist]\n",
        "thirdlist"
      ],
      "metadata": {
        "colab": {
          "base_uri": "https://localhost:8080/"
        },
        "id": "8zU5NfYnWoB_",
        "outputId": "245c97c8-0d7f-42b9-b3e9-827433f5f6e7"
      },
      "execution_count": 36,
      "outputs": [
        {
          "output_type": "execute_result",
          "data": {
            "text/plain": [
              "[[1, 2, False, True, 'Blah Blah'], [[1, 2, False, True, 'Blah Blah'], 1, 2]]"
            ]
          },
          "metadata": {},
          "execution_count": 36
        }
      ]
    },
    {
      "cell_type": "code",
      "source": [
        "thirdlist[1][0][-1]"
      ],
      "metadata": {
        "colab": {
          "base_uri": "https://localhost:8080/",
          "height": 35
        },
        "id": "_EIcNAAYWzgn",
        "outputId": "610d349b-66ae-41e9-e84d-9d97be9813b6"
      },
      "execution_count": 41,
      "outputs": [
        {
          "output_type": "execute_result",
          "data": {
            "text/plain": [
              "'Blah Blah'"
            ],
            "application/vnd.google.colaboratory.intrinsic+json": {
              "type": "string"
            }
          },
          "metadata": {},
          "execution_count": 41
        }
      ]
    },
    {
      "cell_type": "code",
      "source": [
        "# MATH-> set theory-> union, intersection, venn diagrams\n",
        "# a = {apple, banana}, b = {banana, apple}\n",
        "# same sets or diff?\n",
        "# c  = {apple, apple, banana, apple}, d = {apple, banana}\n",
        "# same sets or diff?\n",
        "# SET THEORY-> repeating elements are counted only once!\n",
        "# Python-> sets are represented with { }\n",
        "myset = { 'apple', 1, 2, 1 , 2, False, 3.14, 42, 'banana'}\n",
        "print(myset)\n",
        "# UNORDERED, UNINDEXED\n",
        "# use-case: To store unique elements!"
      ],
      "metadata": {
        "colab": {
          "base_uri": "https://localhost:8080/"
        },
        "id": "sSBX8-e-W7jA",
        "outputId": "363ba49e-3f81-4ce8-e450-b34f28f25b10"
      },
      "execution_count": 48,
      "outputs": [
        {
          "output_type": "stream",
          "name": "stdout",
          "text": [
            "{False, 1, 2, 3.14, 'apple', 42, 'banana'}\n"
          ]
        }
      ]
    },
    {
      "cell_type": "code",
      "source": [
        "myset[1] # should this work?\n",
        "# DOes not work because there are NO INDEXES!\n"
      ],
      "metadata": {
        "colab": {
          "base_uri": "https://localhost:8080/",
          "height": 168
        },
        "id": "y4JvpCIfXx3J",
        "outputId": "3c5b0014-2268-4f98-aa29-506974db3093"
      },
      "execution_count": 45,
      "outputs": [
        {
          "output_type": "error",
          "ename": "TypeError",
          "evalue": "ignored",
          "traceback": [
            "\u001b[0;31m---------------------------------------------------------------------------\u001b[0m",
            "\u001b[0;31mTypeError\u001b[0m                                 Traceback (most recent call last)",
            "\u001b[0;32m<ipython-input-45-6c53d5caacde>\u001b[0m in \u001b[0;36m<module>\u001b[0;34m()\u001b[0m\n\u001b[0;32m----> 1\u001b[0;31m \u001b[0mmyset\u001b[0m\u001b[0;34m[\u001b[0m\u001b[0;36m1\u001b[0m\u001b[0;34m]\u001b[0m \u001b[0;31m# should this work?\u001b[0m\u001b[0;34m\u001b[0m\u001b[0;34m\u001b[0m\u001b[0m\n\u001b[0m",
            "\u001b[0;31mTypeError\u001b[0m: 'set' object is not subscriptable"
          ]
        }
      ]
    },
    {
      "cell_type": "code",
      "source": [
        "# Tuple\n",
        "# represented = ( )\n",
        "mytuple = (1,2,3)\n",
        "# I CANNOT MAKE ANY CHANGES TO THIS ANYMORE!\n",
        "mytuple"
      ],
      "metadata": {
        "colab": {
          "base_uri": "https://localhost:8080/"
        },
        "id": "sMSbQCCkYC5W",
        "outputId": "577de784-c099-4409-b560-1bba5545ccbd"
      },
      "execution_count": 49,
      "outputs": [
        {
          "output_type": "execute_result",
          "data": {
            "text/plain": [
              "(1, 2, 3)"
            ]
          },
          "metadata": {},
          "execution_count": 49
        }
      ]
    },
    {
      "cell_type": "code",
      "source": [
        "mytuple.append(42) # Since tuple is READ-ONLY this SHOULD NOT WORK!"
      ],
      "metadata": {
        "colab": {
          "base_uri": "https://localhost:8080/",
          "height": 168
        },
        "id": "eMQvXCJJYPxf",
        "outputId": "af8842d8-4a57-46d4-f16b-3258264ad20d"
      },
      "execution_count": 51,
      "outputs": [
        {
          "output_type": "error",
          "ename": "AttributeError",
          "evalue": "ignored",
          "traceback": [
            "\u001b[0;31m---------------------------------------------------------------------------\u001b[0m",
            "\u001b[0;31mAttributeError\u001b[0m                            Traceback (most recent call last)",
            "\u001b[0;32m<ipython-input-51-321482e4bbbd>\u001b[0m in \u001b[0;36m<module>\u001b[0;34m()\u001b[0m\n\u001b[0;32m----> 1\u001b[0;31m \u001b[0mmytuple\u001b[0m\u001b[0;34m.\u001b[0m\u001b[0mappend\u001b[0m\u001b[0;34m(\u001b[0m\u001b[0;36m42\u001b[0m\u001b[0;34m)\u001b[0m \u001b[0;31m# Since tuple is READ-ONLY this SHOULD NOT WORK!\u001b[0m\u001b[0;34m\u001b[0m\u001b[0;34m\u001b[0m\u001b[0m\n\u001b[0m",
            "\u001b[0;31mAttributeError\u001b[0m: 'tuple' object has no attribute 'append'"
          ]
        }
      ]
    },
    {
      "cell_type": "code",
      "source": [
        "# If we have NO idea what are the function names inside- then the way to find out\n",
        "# dir(object)\n",
        "print(dir(mytuple))\n",
        "# this should show ALL possible actions we can take on tuple"
      ],
      "metadata": {
        "colab": {
          "base_uri": "https://localhost:8080/"
        },
        "id": "Oe5eJrrwZOSf",
        "outputId": "479a1e1a-03a3-4e02-d809-c21e13403150"
      },
      "execution_count": 52,
      "outputs": [
        {
          "output_type": "execute_result",
          "data": {
            "text/plain": [
              "['__add__',\n",
              " '__class__',\n",
              " '__contains__',\n",
              " '__delattr__',\n",
              " '__dir__',\n",
              " '__doc__',\n",
              " '__eq__',\n",
              " '__format__',\n",
              " '__ge__',\n",
              " '__getattribute__',\n",
              " '__getitem__',\n",
              " '__getnewargs__',\n",
              " '__gt__',\n",
              " '__hash__',\n",
              " '__init__',\n",
              " '__init_subclass__',\n",
              " '__iter__',\n",
              " '__le__',\n",
              " '__len__',\n",
              " '__lt__',\n",
              " '__mul__',\n",
              " '__ne__',\n",
              " '__new__',\n",
              " '__reduce__',\n",
              " '__reduce_ex__',\n",
              " '__repr__',\n",
              " '__rmul__',\n",
              " '__setattr__',\n",
              " '__sizeof__',\n",
              " '__str__',\n",
              " '__subclasshook__',\n",
              " 'count',\n",
              " 'index']"
            ]
          },
          "metadata": {},
          "execution_count": 52
        }
      ]
    },
    {
      "cell_type": "code",
      "source": [
        "mytuple.count(1)"
      ],
      "metadata": {
        "colab": {
          "base_uri": "https://localhost:8080/"
        },
        "id": "EmyjLxj8Zf6r",
        "outputId": "f0d1eda7-fa80-40f6-cd6a-b2c5336d7fa3"
      },
      "execution_count": 54,
      "outputs": [
        {
          "output_type": "execute_result",
          "data": {
            "text/plain": [
              "1"
            ]
          },
          "metadata": {},
          "execution_count": 54
        }
      ]
    },
    {
      "cell_type": "code",
      "source": [
        "dir(mylist)"
      ],
      "metadata": {
        "colab": {
          "base_uri": "https://localhost:8080/"
        },
        "id": "WGX6gzS8ZvH6",
        "outputId": "3cf4bef9-cf3b-4b28-d372-315c1138bcda"
      },
      "execution_count": 55,
      "outputs": [
        {
          "output_type": "execute_result",
          "data": {
            "text/plain": [
              "['__add__',\n",
              " '__class__',\n",
              " '__contains__',\n",
              " '__delattr__',\n",
              " '__delitem__',\n",
              " '__dir__',\n",
              " '__doc__',\n",
              " '__eq__',\n",
              " '__format__',\n",
              " '__ge__',\n",
              " '__getattribute__',\n",
              " '__getitem__',\n",
              " '__gt__',\n",
              " '__hash__',\n",
              " '__iadd__',\n",
              " '__imul__',\n",
              " '__init__',\n",
              " '__init_subclass__',\n",
              " '__iter__',\n",
              " '__le__',\n",
              " '__len__',\n",
              " '__lt__',\n",
              " '__mul__',\n",
              " '__ne__',\n",
              " '__new__',\n",
              " '__reduce__',\n",
              " '__reduce_ex__',\n",
              " '__repr__',\n",
              " '__reversed__',\n",
              " '__rmul__',\n",
              " '__setattr__',\n",
              " '__setitem__',\n",
              " '__sizeof__',\n",
              " '__str__',\n",
              " '__subclasshook__',\n",
              " 'append',\n",
              " 'clear',\n",
              " 'copy',\n",
              " 'count',\n",
              " 'extend',\n",
              " 'index',\n",
              " 'insert',\n",
              " 'pop',\n",
              " 'remove',\n",
              " 'reverse',\n",
              " 'sort']"
            ]
          },
          "metadata": {},
          "execution_count": 55
        }
      ]
    },
    {
      "cell_type": "code",
      "source": [
        "print(dir(myset))"
      ],
      "metadata": {
        "colab": {
          "base_uri": "https://localhost:8080/"
        },
        "id": "O7yoXth1aDzj",
        "outputId": "222b464a-08b3-4c34-d0ae-7471d9f869cb"
      },
      "execution_count": 56,
      "outputs": [
        {
          "output_type": "execute_result",
          "data": {
            "text/plain": [
              "['__and__',\n",
              " '__class__',\n",
              " '__contains__',\n",
              " '__delattr__',\n",
              " '__dir__',\n",
              " '__doc__',\n",
              " '__eq__',\n",
              " '__format__',\n",
              " '__ge__',\n",
              " '__getattribute__',\n",
              " '__gt__',\n",
              " '__hash__',\n",
              " '__iand__',\n",
              " '__init__',\n",
              " '__init_subclass__',\n",
              " '__ior__',\n",
              " '__isub__',\n",
              " '__iter__',\n",
              " '__ixor__',\n",
              " '__le__',\n",
              " '__len__',\n",
              " '__lt__',\n",
              " '__ne__',\n",
              " '__new__',\n",
              " '__or__',\n",
              " '__rand__',\n",
              " '__reduce__',\n",
              " '__reduce_ex__',\n",
              " '__repr__',\n",
              " '__ror__',\n",
              " '__rsub__',\n",
              " '__rxor__',\n",
              " '__setattr__',\n",
              " '__sizeof__',\n",
              " '__str__',\n",
              " '__sub__',\n",
              " '__subclasshook__',\n",
              " '__xor__',\n",
              " 'add',\n",
              " 'clear',\n",
              " 'copy',\n",
              " 'difference',\n",
              " 'difference_update',\n",
              " 'discard',\n",
              " 'intersection',\n",
              " 'intersection_update',\n",
              " 'isdisjoint',\n",
              " 'issubset',\n",
              " 'issuperset',\n",
              " 'pop',\n",
              " 'remove',\n",
              " 'symmetric_difference',\n",
              " 'symmetric_difference_update',\n",
              " 'union',\n",
              " 'update']"
            ]
          },
          "metadata": {},
          "execution_count": 56
        }
      ]
    },
    {
      "cell_type": "code",
      "source": [
        "# recap- LIST- INDEXED, ORDERED\n",
        "#       TUPLES- READONLY, INDEXED, ORDERED\n",
        "#       SET- UNINDEXED and ONORDERED, UNIQUE values ONLY"
      ],
      "metadata": {
        "id": "eNIsOnqmaOhP"
      },
      "execution_count": 57,
      "outputs": []
    },
    {
      "cell_type": "code",
      "source": [
        "# Dictionary-> Set with Indexes -> these indexes are defined by us, and point to a VALUE!\n",
        "# KEY-VALUE pairs\n",
        "city_fav_color = {\n",
        "    \"London\" : \"red\",\n",
        "    \"San Francisco\" : \"blue\",\n",
        "    \"Warsaw\" : \"green\"\n",
        "}"
      ],
      "metadata": {
        "id": "00Bj9YUQxB7-"
      },
      "execution_count": 59,
      "outputs": []
    },
    {
      "cell_type": "code",
      "source": [
        "print(city_fav_color[\"San Francisco\"])"
      ],
      "metadata": {
        "colab": {
          "base_uri": "https://localhost:8080/"
        },
        "id": "JDSDDn3SxU2L",
        "outputId": "5a1497e6-1b83-4421-f6e3-0070d9480ff0"
      },
      "execution_count": 61,
      "outputs": [
        {
          "output_type": "stream",
          "name": "stdout",
          "text": [
            "blue\n"
          ]
        }
      ]
    },
    {
      "cell_type": "code",
      "source": [
        "city_fav_color"
      ],
      "metadata": {
        "colab": {
          "base_uri": "https://localhost:8080/"
        },
        "id": "xEb9kgdhxgPh",
        "outputId": "4a17dad3-e61c-4f18-e000-f2ee77384aa5"
      },
      "execution_count": 62,
      "outputs": [
        {
          "output_type": "execute_result",
          "data": {
            "text/plain": [
              "{'London': 'red', 'San Francisco': 'blue', 'Warsaw': 'green'}"
            ]
          },
          "metadata": {},
          "execution_count": 62
        }
      ]
    },
    {
      "cell_type": "code",
      "source": [
        "human_properties = {\n",
        "    \"name\" : \"Pikachu\",\n",
        "    \"age\" : 99,\n",
        "    \"isHungry\" : True,\n",
        "    42 : \"No Idea What It Means\"\n",
        "}"
      ],
      "metadata": {
        "id": "q-SMblM1xlAm"
      },
      "execution_count": 63,
      "outputs": []
    },
    {
      "cell_type": "code",
      "source": [
        "human_properties\n",
        "# DICTIONARIES-> INDEXED, UNORDERED"
      ],
      "metadata": {
        "colab": {
          "base_uri": "https://localhost:8080/"
        },
        "id": "xHiFUOYLx4Aq",
        "outputId": "7e55d628-d0af-4bb5-f1e6-a8ad2727c691"
      },
      "execution_count": 65,
      "outputs": [
        {
          "output_type": "execute_result",
          "data": {
            "text/plain": [
              "{42: 'No Idea What It Means', 'age': 99, 'isHungry': True, 'name': 'Pikachu'}"
            ]
          },
          "metadata": {},
          "execution_count": 65
        }
      ]
    },
    {
      "cell_type": "code",
      "source": [
        "# This format of data -> KEY-VALUE PAIRS inside { } -> JSON structure\n",
        "# JSON- JavaScript Object Notation \n",
        "# Massive Info but WITH CONTEXT-> dictionaries!"
      ],
      "metadata": {
        "id": "esEWov5bx5hM"
      },
      "execution_count": 66,
      "outputs": []
    },
    {
      "cell_type": "code",
      "source": [
        "# Encode a message -> {\"a\": 32, \"good\":22, \"boy\": 55}\n",
        "# encoded -> a good boy -> 32 22 55\n"
      ],
      "metadata": {
        "id": "84SEOHc7yS0s"
      },
      "execution_count": 67,
      "outputs": []
    },
    {
      "cell_type": "code",
      "source": [
        "a = 42\n",
        "b = \"hello\"\n"
      ],
      "metadata": {
        "id": "GSiwYsgIy7-V"
      },
      "execution_count": 68,
      "outputs": []
    },
    {
      "cell_type": "code",
      "source": [
        "print(a+b) # Error"
      ],
      "metadata": {
        "colab": {
          "base_uri": "https://localhost:8080/",
          "height": 168
        },
        "id": "rdeFivcJy-vM",
        "outputId": "7cd6abd6-4950-460d-a3dd-2e4fc8f9ee1d"
      },
      "execution_count": 69,
      "outputs": [
        {
          "output_type": "error",
          "ename": "TypeError",
          "evalue": "ignored",
          "traceback": [
            "\u001b[0;31m---------------------------------------------------------------------------\u001b[0m",
            "\u001b[0;31mTypeError\u001b[0m                                 Traceback (most recent call last)",
            "\u001b[0;32m<ipython-input-69-46d539a4f41b>\u001b[0m in \u001b[0;36m<module>\u001b[0;34m()\u001b[0m\n\u001b[0;32m----> 1\u001b[0;31m \u001b[0mprint\u001b[0m\u001b[0;34m(\u001b[0m\u001b[0ma\u001b[0m\u001b[0;34m+\u001b[0m\u001b[0mb\u001b[0m\u001b[0;34m)\u001b[0m \u001b[0;31m# Error\u001b[0m\u001b[0;34m\u001b[0m\u001b[0;34m\u001b[0m\u001b[0m\n\u001b[0m",
            "\u001b[0;31mTypeError\u001b[0m: unsupported operand type(s) for +: 'int' and 'str'"
          ]
        }
      ]
    },
    {
      "cell_type": "code",
      "source": [
        "print( str(a) + b)"
      ],
      "metadata": {
        "colab": {
          "base_uri": "https://localhost:8080/"
        },
        "id": "CJqosGvMzBM-",
        "outputId": "bfc31435-e1d4-41c9-c628-ec49e76c5f81"
      },
      "execution_count": 70,
      "outputs": [
        {
          "output_type": "stream",
          "name": "stdout",
          "text": [
            "42hello\n"
          ]
        }
      ]
    },
    {
      "cell_type": "code",
      "source": [
        "a = \"42\"\n",
        "b = 25\n",
        "print( int(a) + b)"
      ],
      "metadata": {
        "colab": {
          "base_uri": "https://localhost:8080/"
        },
        "id": "nU4OOjRhzFZO",
        "outputId": "44db0ada-b2a1-44c4-9228-eeee80b8ed81"
      },
      "execution_count": 71,
      "outputs": [
        {
          "output_type": "stream",
          "name": "stdout",
          "text": [
            "67\n"
          ]
        }
      ]
    },
    {
      "cell_type": "code",
      "source": [
        "len(human_properties)"
      ],
      "metadata": {
        "colab": {
          "base_uri": "https://localhost:8080/"
        },
        "id": "AsSIEA4_zSpa",
        "outputId": "c6ade961-35e8-4965-ebea-7713025417f7"
      },
      "execution_count": 73,
      "outputs": [
        {
          "output_type": "execute_result",
          "data": {
            "text/plain": [
              "4"
            ]
          },
          "metadata": {},
          "execution_count": 73
        }
      ]
    },
    {
      "cell_type": "code",
      "source": [
        "len([1,2,3,4])"
      ],
      "metadata": {
        "colab": {
          "base_uri": "https://localhost:8080/"
        },
        "id": "rbrYHv7bzoU7",
        "outputId": "96762881-0922-4295-e009-c7fe6145912d"
      },
      "execution_count": 74,
      "outputs": [
        {
          "output_type": "execute_result",
          "data": {
            "text/plain": [
              "4"
            ]
          },
          "metadata": {},
          "execution_count": 74
        }
      ]
    },
    {
      "cell_type": "code",
      "source": [
        "len(\"Hello World\")"
      ],
      "metadata": {
        "colab": {
          "base_uri": "https://localhost:8080/"
        },
        "id": "J00wtCPn0D9y",
        "outputId": "0182410c-91be-450b-9314-afc636f9eb87"
      },
      "execution_count": 75,
      "outputs": [
        {
          "output_type": "execute_result",
          "data": {
            "text/plain": [
              "11"
            ]
          },
          "metadata": {},
          "execution_count": 75
        }
      ]
    },
    {
      "cell_type": "code",
      "source": [
        "a = [1,2,3,4]\n",
        "print(min(a))\n",
        "print(max(a))"
      ],
      "metadata": {
        "colab": {
          "base_uri": "https://localhost:8080/"
        },
        "id": "5tWqRq_s0Ny1",
        "outputId": "20f1bec9-1206-4c8e-d99d-a7f9235cb383"
      },
      "execution_count": 78,
      "outputs": [
        {
          "output_type": "stream",
          "name": "stdout",
          "text": [
            "1\n",
            "4\n"
          ]
        }
      ]
    },
    {
      "cell_type": "code",
      "source": [
        "# SLICING and DICING\n",
        "# applicable ONLY to LISTS and TUPLES\n",
        "# Because slicing and dicing is done with the help of NUMERIC INDEXES! (POSITION)\n",
        "# Set has no indexes, and dictionary is unordered so indexes are NOT in a sequence!"
      ],
      "metadata": {
        "id": "0gdJygUL0Xoi"
      },
      "execution_count": 79,
      "outputs": []
    },
    {
      "cell_type": "code",
      "source": [
        "# RANGE function-> automatically generates numbers between two given limits\n",
        "# by default-> it starts from 0\n",
        "# otherwise syntax is -> start, stop, steps\n",
        "a = range(2,31,3)\n",
        "# 2 5 8 11 14 17 20 23 26 29\n",
        "print(a)\n",
        "print(a[-1]) # INDEXABLE, but not a LIST!"
      ],
      "metadata": {
        "colab": {
          "base_uri": "https://localhost:8080/"
        },
        "id": "YabblvS21kvs",
        "outputId": "584c049f-5a67-4aaf-84a0-b8183f65df8a"
      },
      "execution_count": 89,
      "outputs": [
        {
          "output_type": "stream",
          "name": "stdout",
          "text": [
            "range(2, 31, 3)\n",
            "29\n"
          ]
        }
      ]
    },
    {
      "cell_type": "code",
      "source": [
        "b = list(a) # TYPE CASTING!\n",
        "print(b)\n",
        "# VERY IMPORTANT USE CASE-> where list() can be used instead of [ ]"
      ],
      "metadata": {
        "colab": {
          "base_uri": "https://localhost:8080/"
        },
        "id": "J5M9F-Pk1v8d",
        "outputId": "1319b57d-bfe3-45b8-e5a2-1d51534150c7"
      },
      "execution_count": 90,
      "outputs": [
        {
          "output_type": "stream",
          "name": "stdout",
          "text": [
            "[2, 5, 8, 11, 14, 17, 20, 23, 26, 29]\n"
          ]
        }
      ]
    },
    {
      "cell_type": "code",
      "source": [
        "# SLICING & DICING\n",
        "# START and STOP point (start is included, stop is excluded)\n",
        "b[2:5]"
      ],
      "metadata": {
        "colab": {
          "base_uri": "https://localhost:8080/"
        },
        "id": "b2Y1G6s-11cb",
        "outputId": "e2c59c0a-7a55-4783-a8c2-ddf59fca4384"
      },
      "execution_count": 91,
      "outputs": [
        {
          "output_type": "execute_result",
          "data": {
            "text/plain": [
              "[8, 11, 14]"
            ]
          },
          "metadata": {},
          "execution_count": 91
        }
      ]
    },
    {
      "cell_type": "code",
      "source": [
        "b[3:-3] # from third, till 3rd last\n",
        "# Negative from the right hands side, and stop is EXCLUDED\n",
        "# -3 position -> [23]\n",
        "# till 23, excluding 23!\n"
      ],
      "metadata": {
        "colab": {
          "base_uri": "https://localhost:8080/"
        },
        "id": "2i1sZdv32_j9",
        "outputId": "5d3c7a74-3309-45e9-8337-41c8bb4a722b"
      },
      "execution_count": 92,
      "outputs": [
        {
          "output_type": "execute_result",
          "data": {
            "text/plain": [
              "[11, 14, 17, 20]"
            ]
          },
          "metadata": {},
          "execution_count": 92
        }
      ]
    },
    {
      "cell_type": "code",
      "source": [
        "# Start from beginning, or go till end-> you can choose to skip the index!\n",
        "print(b[:5])"
      ],
      "metadata": {
        "colab": {
          "base_uri": "https://localhost:8080/"
        },
        "id": "VlUhaBya3JVH",
        "outputId": "9e229ef8-5e11-4cf9-c385-a18194f78c01"
      },
      "execution_count": 93,
      "outputs": [
        {
          "output_type": "stream",
          "name": "stdout",
          "text": [
            "[2, 5, 8, 11, 14]\n"
          ]
        }
      ]
    },
    {
      "cell_type": "code",
      "source": [
        "print(b[-2:]) # from 2nd last element, till the end"
      ],
      "metadata": {
        "colab": {
          "base_uri": "https://localhost:8080/"
        },
        "id": "e61dsnV038MU",
        "outputId": "160ec060-b798-41d3-b44e-176b6e6eb427"
      },
      "execution_count": 94,
      "outputs": [
        {
          "output_type": "stream",
          "name": "stdout",
          "text": [
            "[26, 29]\n"
          ]
        }
      ]
    },
    {
      "cell_type": "code",
      "source": [
        "# works on TUPLES as well\n",
        "mytuple = tuple(b)\n",
        "print(mytuple)"
      ],
      "metadata": {
        "colab": {
          "base_uri": "https://localhost:8080/"
        },
        "id": "M1xMJmoo3-iL",
        "outputId": "0c3f1a44-5296-4263-a614-a4d16a58f77d"
      },
      "execution_count": 95,
      "outputs": [
        {
          "output_type": "stream",
          "name": "stdout",
          "text": [
            "(2, 5, 8, 11, 14, 17, 20, 23, 26, 29)\n"
          ]
        }
      ]
    },
    {
      "cell_type": "code",
      "source": [
        "# SLicing and Dicing\n",
        "mytuple[:3] # first 3 elements"
      ],
      "metadata": {
        "colab": {
          "base_uri": "https://localhost:8080/"
        },
        "id": "KrdZAAXL4TEQ",
        "outputId": "6c999a7c-19f6-4fd3-e87c-95dff3f9c08d"
      },
      "execution_count": 96,
      "outputs": [
        {
          "output_type": "execute_result",
          "data": {
            "text/plain": [
              "(2, 5, 8)"
            ]
          },
          "metadata": {},
          "execution_count": 96
        }
      ]
    },
    {
      "cell_type": "code",
      "source": [
        "mytuple[-5:-2]\n",
        "# 17 is at -5\n",
        "# 26 is on -2, and stop is excluded\n",
        "# from 17 till 26 excluding 26\n",
        "# 17 20 23"
      ],
      "metadata": {
        "colab": {
          "base_uri": "https://localhost:8080/"
        },
        "id": "douueA9z4YCo",
        "outputId": "30a8fd8f-8535-450b-8c15-c4ce8d5d140c"
      },
      "execution_count": 97,
      "outputs": [
        {
          "output_type": "execute_result",
          "data": {
            "text/plain": [
              "(17, 20, 23)"
            ]
          },
          "metadata": {},
          "execution_count": 97
        }
      ]
    },
    {
      "cell_type": "code",
      "source": [
        "# paste the values into multiple variables also!\n",
        "x,y,z = mytuple[-5:-2] # we already know from prev steps, that 17,20,23 is the extraction\n",
        "print(x)\n",
        "print(y)\n",
        "print(z)\n"
      ],
      "metadata": {
        "colab": {
          "base_uri": "https://localhost:8080/"
        },
        "id": "4zBAPHwq840-",
        "outputId": "e1227c2c-0dcc-4de9-8db0-f4bd36015ae2"
      },
      "execution_count": 98,
      "outputs": [
        {
          "output_type": "stream",
          "name": "stdout",
          "text": [
            "17\n",
            "20\n",
            "23\n"
          ]
        }
      ]
    },
    {
      "cell_type": "code",
      "source": [
        "x, *y = mytuple[-5:-2] \n",
        "# if you put *, then the first variable has taken the first value from the right hand side,\n",
        "# and everything else is stored in the variable containing *\n",
        "# x has the first value, 17, and y has rest of the values!"
      ],
      "metadata": {
        "id": "0zvSvte898M0"
      },
      "execution_count": 99,
      "outputs": []
    },
    {
      "cell_type": "code",
      "source": [
        "print(x)\n",
        "print(y)"
      ],
      "metadata": {
        "colab": {
          "base_uri": "https://localhost:8080/"
        },
        "id": "e31j6tU7-ETm",
        "outputId": "6fa8251d-147b-4a1c-8112-9f8423715c93"
      },
      "execution_count": 101,
      "outputs": [
        {
          "output_type": "stream",
          "name": "stdout",
          "text": [
            "17\n",
            "[20, 23]\n"
          ]
        }
      ]
    },
    {
      "cell_type": "code",
      "source": [
        "y.pop() # last element-> 23 has been popped\n",
        "print(y)"
      ],
      "metadata": {
        "colab": {
          "base_uri": "https://localhost:8080/"
        },
        "id": "4yamsYCx-F9E",
        "outputId": "a2687b13-f374-4687-a42d-f0b09cd5caa0"
      },
      "execution_count": 104,
      "outputs": [
        {
          "output_type": "stream",
          "name": "stdout",
          "text": [
            "[20]\n"
          ]
        }
      ]
    },
    {
      "cell_type": "code",
      "source": [
        "del y[0] \n",
        "print(y)"
      ],
      "metadata": {
        "colab": {
          "base_uri": "https://localhost:8080/"
        },
        "id": "76ZzXiGd-9Lf",
        "outputId": "f37c9f33-64b0-4b7a-fb3f-94942e604e4f"
      },
      "execution_count": 105,
      "outputs": [
        {
          "output_type": "stream",
          "name": "stdout",
          "text": [
            "[]\n"
          ]
        }
      ]
    },
    {
      "cell_type": "code",
      "source": [
        "a = [\"apple\", \"strawberry\", 32]\n",
        "a.remove(32)\n",
        "print(a)"
      ],
      "metadata": {
        "colab": {
          "base_uri": "https://localhost:8080/"
        },
        "id": "3OBpVUbR_f9A",
        "outputId": "d9671c6d-ca47-451e-a7b6-12678672c780"
      },
      "execution_count": 106,
      "outputs": [
        {
          "output_type": "stream",
          "name": "stdout",
          "text": [
            "['apple', 'strawberry']\n"
          ]
        }
      ]
    },
    {
      "cell_type": "code",
      "source": [
        "a = ['1', '2', 'hello', 'bye']\n",
        "a.sort(key=len)\n",
        "print(a)\n",
        "a.sort(key=len, reverse=True)\n",
        "print(a)\n"
      ],
      "metadata": {
        "colab": {
          "base_uri": "https://localhost:8080/"
        },
        "id": "IFWXx_mM_w1m",
        "outputId": "ae179c54-039f-443a-dda6-5d1c832423b8"
      },
      "execution_count": 112,
      "outputs": [
        {
          "output_type": "stream",
          "name": "stdout",
          "text": [
            "['1', '2', 'bye', 'hello']\n",
            "['hello', 'bye', '1', '2']\n"
          ]
        }
      ]
    },
    {
      "cell_type": "code",
      "source": [
        "print(a)\n",
        "print(\"Index of hello is\")\n",
        "a.index('hello')"
      ],
      "metadata": {
        "colab": {
          "base_uri": "https://localhost:8080/"
        },
        "id": "KKyBZqb8AF7j",
        "outputId": "2d3e789e-dc64-4d12-8958-d56cf154815e"
      },
      "execution_count": 123,
      "outputs": [
        {
          "output_type": "stream",
          "name": "stdout",
          "text": [
            "['hello', 'bye', '1', '2']\n",
            "Index of hello is\n"
          ]
        },
        {
          "output_type": "execute_result",
          "data": {
            "text/plain": [
              "0"
            ]
          },
          "metadata": {},
          "execution_count": 123
        }
      ]
    },
    {
      "cell_type": "code",
      "source": [
        "randomlist = [1,42, 42, 44, 44, 44, 100]\n",
        "randomlist.reverse()\n",
        "print(randomlist)"
      ],
      "metadata": {
        "colab": {
          "base_uri": "https://localhost:8080/"
        },
        "id": "VRp1DwrZA7VW",
        "outputId": "85659cea-ac43-4087-aa2a-125e620ab9cc"
      },
      "execution_count": 124,
      "outputs": [
        {
          "output_type": "stream",
          "name": "stdout",
          "text": [
            "[100, 44, 44, 44, 42, 42, 1]\n"
          ]
        }
      ]
    },
    {
      "cell_type": "code",
      "source": [
        "print(randomlist.count(44))"
      ],
      "metadata": {
        "colab": {
          "base_uri": "https://localhost:8080/"
        },
        "id": "pAZu2efvBIZj",
        "outputId": "7c7c4426-10b3-46f1-9d36-d3c3548c3f76"
      },
      "execution_count": 125,
      "outputs": [
        {
          "output_type": "stream",
          "name": "stdout",
          "text": [
            "3\n"
          ]
        }
      ]
    },
    {
      "cell_type": "code",
      "source": [
        "randomlist.extend(a) # Add a's values to the Randomlist!\n",
        "print(randomlist)"
      ],
      "metadata": {
        "colab": {
          "base_uri": "https://localhost:8080/"
        },
        "id": "JaDCDRW2BTNI",
        "outputId": "0f3e87c6-5111-4ca1-a1ec-a25de1e5bd05"
      },
      "execution_count": 126,
      "outputs": [
        {
          "output_type": "stream",
          "name": "stdout",
          "text": [
            "[100, 44, 44, 44, 42, 42, 1, 'hello', 'bye', '1', '2']\n"
          ]
        }
      ]
    },
    {
      "cell_type": "code",
      "source": [
        "pokemon = {'pikachu', 'bulbasaur', 'Popye'}\n",
        "pokemon.discard('Popye')"
      ],
      "metadata": {
        "id": "h7sm9cTDBhAd"
      },
      "execution_count": 127,
      "outputs": []
    },
    {
      "cell_type": "code",
      "source": [
        "print(pokemon)"
      ],
      "metadata": {
        "colab": {
          "base_uri": "https://localhost:8080/"
        },
        "id": "8eWSynL7CY2G",
        "outputId": "51158976-e5db-4506-b016-a982652ddfb3"
      },
      "execution_count": 128,
      "outputs": [
        {
          "output_type": "stream",
          "name": "stdout",
          "text": [
            "{'pikachu', 'bulbasaur'}\n"
          ]
        }
      ]
    },
    {
      "cell_type": "code",
      "source": [
        "first10nums = set(range(10))\n",
        "first10evens = set(range(2,22,2))\n"
      ],
      "metadata": {
        "id": "PV8SdFi_CaQa"
      },
      "execution_count": 130,
      "outputs": []
    },
    {
      "cell_type": "code",
      "source": [
        "this_union = first10nums | first10evens # UNION of SETS\n",
        "print(this_union)"
      ],
      "metadata": {
        "colab": {
          "base_uri": "https://localhost:8080/"
        },
        "id": "-puDBCqtC-iX",
        "outputId": "a9c99290-d12f-475e-9c68-9928fdc81803"
      },
      "execution_count": 131,
      "outputs": [
        {
          "output_type": "stream",
          "name": "stdout",
          "text": [
            "{0, 1, 2, 3, 4, 5, 6, 7, 8, 9, 10, 12, 14, 16, 18, 20}\n"
          ]
        }
      ]
    },
    {
      "cell_type": "code",
      "source": [
        "this_intersection = first10nums & first10evens # Intersection of SETS\n",
        "print(this_intersection)"
      ],
      "metadata": {
        "colab": {
          "base_uri": "https://localhost:8080/"
        },
        "id": "apCdac9JDWYt",
        "outputId": "0db29aa4-ee6e-4806-c612-d2a687d49a10"
      },
      "execution_count": 132,
      "outputs": [
        {
          "output_type": "stream",
          "name": "stdout",
          "text": [
            "{8, 2, 4, 6}\n"
          ]
        }
      ]
    },
    {
      "cell_type": "code",
      "source": [
        "first_10_evens_without_first_10_nums = first10evens - first10nums # remove latter's elements from former\n",
        "print(first_10_evens_without_first_10_nums)"
      ],
      "metadata": {
        "colab": {
          "base_uri": "https://localhost:8080/"
        },
        "id": "-wchogqYDmGy",
        "outputId": "6c4f39cb-451d-4399-c48e-c82d47b96260"
      },
      "execution_count": 133,
      "outputs": [
        {
          "output_type": "stream",
          "name": "stdout",
          "text": [
            "{10, 12, 14, 16, 18, 20}\n"
          ]
        }
      ]
    },
    {
      "cell_type": "code",
      "source": [
        "# Only unique elements from both sets\n",
        "# A + B - (A intersection B)\n",
        "print(  first10evens ^ first10nums)"
      ],
      "metadata": {
        "colab": {
          "base_uri": "https://localhost:8080/"
        },
        "id": "bHgF_Yt7D0uy",
        "outputId": "a45c3128-a2a8-4e44-e28b-0088b7cc7218"
      },
      "execution_count": 135,
      "outputs": [
        {
          "output_type": "stream",
          "name": "stdout",
          "text": [
            "{0, 1, 3, 5, 7, 9, 10, 12, 14, 16, 18, 20}\n"
          ]
        }
      ]
    },
    {
      "cell_type": "code",
      "source": [
        "a = [1,2,3]\n",
        "b = {2,3,4}\n",
        "c = ('x','y','z')\n",
        "d = {\n",
        "    10 : a,\n",
        "     20 : b,\n",
        "     30 : c\n",
        "}"
      ],
      "metadata": {
        "id": "gPQDZjpiD-_j"
      },
      "execution_count": 136,
      "outputs": []
    },
    {
      "cell_type": "code",
      "source": [
        "print(d)"
      ],
      "metadata": {
        "colab": {
          "base_uri": "https://localhost:8080/"
        },
        "id": "Fap6zyGYE8bF",
        "outputId": "fc70002b-4eee-4c43-fe81-b1d8d44fbd9b"
      },
      "execution_count": 137,
      "outputs": [
        {
          "output_type": "stream",
          "name": "stdout",
          "text": [
            "{10: [1, 2, 3], 20: {2, 3, 4}, 30: ('x', 'y', 'z')}\n"
          ]
        }
      ]
    },
    {
      "cell_type": "code",
      "source": [
        "d[30][1]"
      ],
      "metadata": {
        "colab": {
          "base_uri": "https://localhost:8080/",
          "height": 35
        },
        "id": "vX8j0fMxE-Jq",
        "outputId": "12bf2690-ae1e-43f8-bd74-7939154e470f"
      },
      "execution_count": 139,
      "outputs": [
        {
          "output_type": "execute_result",
          "data": {
            "text/plain": [
              "'y'"
            ],
            "application/vnd.google.colaboratory.intrinsic+json": {
              "type": "string"
            }
          },
          "metadata": {},
          "execution_count": 139
        }
      ]
    },
    {
      "cell_type": "code",
      "source": [
        "# BUT because SET is unindexed\n",
        "d[20][0] # should this work?\n",
        "# Error expected!"
      ],
      "metadata": {
        "colab": {
          "base_uri": "https://localhost:8080/",
          "height": 186
        },
        "id": "TK1UoPHMFCsl",
        "outputId": "20f0c67a-ead0-4751-946c-70c3bfce5e6b"
      },
      "execution_count": 140,
      "outputs": [
        {
          "output_type": "error",
          "ename": "TypeError",
          "evalue": "ignored",
          "traceback": [
            "\u001b[0;31m---------------------------------------------------------------------------\u001b[0m",
            "\u001b[0;31mTypeError\u001b[0m                                 Traceback (most recent call last)",
            "\u001b[0;32m<ipython-input-140-e66652955cda>\u001b[0m in \u001b[0;36m<module>\u001b[0;34m()\u001b[0m\n\u001b[1;32m      1\u001b[0m \u001b[0;31m# BUT because SET is unindexed\u001b[0m\u001b[0;34m\u001b[0m\u001b[0;34m\u001b[0m\u001b[0;34m\u001b[0m\u001b[0m\n\u001b[0;32m----> 2\u001b[0;31m \u001b[0md\u001b[0m\u001b[0;34m[\u001b[0m\u001b[0;36m20\u001b[0m\u001b[0;34m]\u001b[0m\u001b[0;34m[\u001b[0m\u001b[0;36m0\u001b[0m\u001b[0;34m]\u001b[0m \u001b[0;31m# should this work?\u001b[0m\u001b[0;34m\u001b[0m\u001b[0;34m\u001b[0m\u001b[0m\n\u001b[0m",
            "\u001b[0;31mTypeError\u001b[0m: 'set' object is not subscriptable"
          ]
        }
      ]
    },
    {
      "cell_type": "code",
      "source": [
        "# keys and values can be worked on separately\n",
        "# Gentle reminder- these are KEY-VALUE pairs!\n",
        "d.keys()"
      ],
      "metadata": {
        "colab": {
          "base_uri": "https://localhost:8080/"
        },
        "id": "5Vaff0KqFPNi",
        "outputId": "7354593d-ebf6-43e5-cf6d-181fa8c956bc"
      },
      "execution_count": 143,
      "outputs": [
        {
          "output_type": "execute_result",
          "data": {
            "text/plain": [
              "dict_keys([10, 20, 30])"
            ]
          },
          "metadata": {},
          "execution_count": 143
        }
      ]
    },
    {
      "cell_type": "code",
      "source": [
        "d.values()"
      ],
      "metadata": {
        "colab": {
          "base_uri": "https://localhost:8080/"
        },
        "id": "oFhx8p4_GOgc",
        "outputId": "ddec38e5-f94f-4af4-8b2d-11ecbd6d0707"
      },
      "execution_count": 142,
      "outputs": [
        {
          "output_type": "execute_result",
          "data": {
            "text/plain": [
              "dict_values([[1, 2, 3], {2, 3, 4}, ('x', 'y', 'z')])"
            ]
          },
          "metadata": {},
          "execution_count": 142
        }
      ]
    },
    {
      "cell_type": "code",
      "source": [
        ""
      ],
      "metadata": {
        "id": "pg1u4PnCGQ25"
      },
      "execution_count": null,
      "outputs": []
    }
  ]
}